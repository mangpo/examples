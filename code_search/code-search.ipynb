{
 "cells": [
  {
   "cell_type": "markdown",
   "metadata": {
    "slideshow": {
     "slide_type": "-"
    }
   },
   "source": [
    "# Code Search on Kubeflow\n",
    "\n",
    "This notebook implements an end-to-end Semantic Code Search on top of [Kubeflow](https://www.kubeflow.org/) - given an input query string, get a list of code snippets semantically similar to the query string.\n",
    "\n",
    "**NOTE**: If you haven't already, see [kubeflow/examples/code_search](https://github.com/kubeflow/examples/tree/master/code_search) for instructions on how to get this notebook,."
   ]
  },
  {
   "cell_type": "markdown",
   "metadata": {},
   "source": [
    "## Install dependencies\n",
    "\n",
    "Let us install all the Python dependencies. Note that everything must be done with `Python 2`. This will take a while the first time."
   ]
  },
  {
   "cell_type": "markdown",
   "metadata": {},
   "source": [
    "### Verify Version Information"
   ]
  },
  {
   "cell_type": "code",
   "execution_count": null,
   "metadata": {},
   "outputs": [],
   "source": [
    "%%bash\n",
    "\n",
    "echo \"Pip Version Info: \" && python2 --version && python2 -m pip --version && echo\n",
    "echo \"Google Cloud SDK Info: \" && gcloud --version && echo\n",
    "echo \"Ksonnet Version Info: \" && ks version && echo\n",
    "echo \"Kubectl Version Info: \" && kubectl version"
   ]
  },
  {
   "cell_type": "markdown",
   "metadata": {},
   "source": [
    "### Install Pip Packages"
   ]
  },
  {
   "cell_type": "code",
   "execution_count": null,
   "metadata": {
    "scrolled": true
   },
   "outputs": [],
   "source": [
    "! python2 -m pip install -U pip"
   ]
  },
  {
   "cell_type": "code",
   "execution_count": 45,
   "metadata": {},
   "outputs": [
    {
     "name": "stdout",
     "output_type": "stream",
     "text": [
      "\u001b[33mDEPRECATION: Python 2.7 will reach the end of its life on January 1st, 2020. Please upgrade your Python as Python 2.7 won't be maintained after that date. A future version of pip will drop support for Python 2.7.\u001b[0m\n",
      "Collecting https://github.com/kubeflow/batch-predict/tarball/master\n",
      "  Downloading https://github.com/kubeflow/batch-predict/tarball/master\n",
      "\u001b[K     / 40kB 1.2MB/s\n",
      "Requirement already satisfied (use --upgrade to upgrade): kubeflow-batch-predict==0.1a0 from https://github.com/kubeflow/batch-predict/tarball/master in /home/jovyan/.local/lib/python2.7/site-packages\n",
      "Requirement already satisfied: apache-beam[gcp]>=2.5.0 in /home/jovyan/.local/lib/python2.7/site-packages (from kubeflow-batch-predict==0.1a0) (2.8.0)\n",
      "Requirement already satisfied: bs4<1.0,>=0.0.1 in /home/jovyan/.local/lib/python2.7/site-packages (from kubeflow-batch-predict==0.1a0) (0.0.1)\n",
      "Requirement already satisfied: crcmod<2.0,>=1.7 in /usr/lib/python2.7/dist-packages (from kubeflow-batch-predict==0.1a0) (1.7)\n",
      "Requirement already satisfied: enum34>=1.1 in /usr/lib/python2.7/dist-packages (from kubeflow-batch-predict==0.1a0) (1.1.6)\n",
      "Requirement already satisfied: nltk<4.0,>=3.2.1 in /home/jovyan/.local/lib/python2.7/site-packages (from kubeflow-batch-predict==0.1a0) (3.3)\n",
      "Requirement already satisfied: numpy>=1.10.4 in /home/jovyan/.local/lib/python2.7/site-packages (from kubeflow-batch-predict==0.1a0) (1.16.2)\n",
      "Requirement already satisfied: oauth2client>=2.2.0 in /home/jovyan/.local/lib/python2.7/site-packages (from kubeflow-batch-predict==0.1a0) (4.1.3)\n",
      "Requirement already satisfied: protobuf<4.0,>=3.1.0 in /home/jovyan/.local/lib/python2.7/site-packages (from kubeflow-batch-predict==0.1a0) (3.7.0)\n",
      "Requirement already satisfied: pyyaml<4.0,>=3.11 in /home/jovyan/.local/lib/python2.7/site-packages (from kubeflow-batch-predict==0.1a0) (3.13)\n",
      "Requirement already satisfied: six==1.10.0 in /home/jovyan/.local/lib/python2.7/site-packages (from kubeflow-batch-predict==0.1a0) (1.10.0)\n",
      "Requirement already satisfied: tensorflow>=1.0.0 in /home/jovyan/.local/lib/python2.7/site-packages (from kubeflow-batch-predict==0.1a0) (1.11.0)\n",
      "Requirement already satisfied: futures<4.0.0,>=3.1.1 in /home/jovyan/.local/lib/python2.7/site-packages (from apache-beam[gcp]>=2.5.0->kubeflow-batch-predict==0.1a0) (3.2.0)\n",
      "Requirement already satisfied: hdfs<3.0.0,>=2.1.0 in /home/jovyan/.local/lib/python2.7/site-packages (from apache-beam[gcp]>=2.5.0->kubeflow-batch-predict==0.1a0) (2.2.2)\n",
      "Requirement already satisfied: pyvcf<0.7.0,>=0.6.8 in /home/jovyan/.local/lib/python2.7/site-packages (from apache-beam[gcp]>=2.5.0->kubeflow-batch-predict==0.1a0) (0.6.8)\n",
      "Requirement already satisfied: avro<2.0.0,>=1.8.1 in /home/jovyan/.local/lib/python2.7/site-packages (from apache-beam[gcp]>=2.5.0->kubeflow-batch-predict==0.1a0) (1.8.2)\n",
      "Requirement already satisfied: pydot<1.3,>=1.2.0 in /home/jovyan/.local/lib/python2.7/site-packages (from apache-beam[gcp]>=2.5.0->kubeflow-batch-predict==0.1a0) (1.2.4)\n",
      "Requirement already satisfied: httplib2<=0.11.3,>=0.8 in /home/jovyan/.local/lib/python2.7/site-packages (from apache-beam[gcp]>=2.5.0->kubeflow-batch-predict==0.1a0) (0.11.3)\n",
      "Requirement already satisfied: dill<=0.2.8.2,>=0.2.6 in /home/jovyan/.local/lib/python2.7/site-packages (from apache-beam[gcp]>=2.5.0->kubeflow-batch-predict==0.1a0) (0.2.8.2)\n",
      "Requirement already satisfied: future<1.0.0,>=0.16.0 in /home/jovyan/.local/lib/python2.7/site-packages (from apache-beam[gcp]>=2.5.0->kubeflow-batch-predict==0.1a0) (0.17.1)\n",
      "Requirement already satisfied: fastavro<0.22,>=0.21.4 in /home/jovyan/.local/lib/python2.7/site-packages (from apache-beam[gcp]>=2.5.0->kubeflow-batch-predict==0.1a0) (0.21.19)\n",
      "Requirement already satisfied: typing<3.7.0,>=3.6.0; python_version < \"3.5.0\" in /home/jovyan/.local/lib/python2.7/site-packages (from apache-beam[gcp]>=2.5.0->kubeflow-batch-predict==0.1a0) (3.6.6)\n",
      "Requirement already satisfied: grpcio<2,>=1.8 in /home/jovyan/.local/lib/python2.7/site-packages (from apache-beam[gcp]>=2.5.0->kubeflow-batch-predict==0.1a0) (1.19.0)\n",
      "Requirement already satisfied: mock<3.0.0,>=1.0.1 in /home/jovyan/.local/lib/python2.7/site-packages (from apache-beam[gcp]>=2.5.0->kubeflow-batch-predict==0.1a0) (2.0.0)\n",
      "Requirement already satisfied: pytz<=2018.4,>=2018.3 in /home/jovyan/.local/lib/python2.7/site-packages (from apache-beam[gcp]>=2.5.0->kubeflow-batch-predict==0.1a0) (2018.4)\n",
      "Requirement already satisfied: google-apitools<=0.5.20,>=0.5.18; extra == \"gcp\" in /home/jovyan/.local/lib/python2.7/site-packages (from apache-beam[gcp]>=2.5.0->kubeflow-batch-predict==0.1a0) (0.5.20)\n",
      "Requirement already satisfied: proto-google-cloud-pubsub-v1==0.15.4; extra == \"gcp\" in /home/jovyan/.local/lib/python2.7/site-packages (from apache-beam[gcp]>=2.5.0->kubeflow-batch-predict==0.1a0) (0.15.4)\n",
      "Requirement already satisfied: googledatastore==7.0.1; python_version < \"3.0\" and extra == \"gcp\" in /home/jovyan/.local/lib/python2.7/site-packages (from apache-beam[gcp]>=2.5.0->kubeflow-batch-predict==0.1a0) (7.0.1)\n",
      "Requirement already satisfied: google-cloud-bigquery==0.25.0; extra == \"gcp\" in /home/jovyan/.local/lib/python2.7/site-packages (from apache-beam[gcp]>=2.5.0->kubeflow-batch-predict==0.1a0) (0.25.0)\n",
      "Requirement already satisfied: google-cloud-pubsub==0.26.0; extra == \"gcp\" in /home/jovyan/.local/lib/python2.7/site-packages (from apache-beam[gcp]>=2.5.0->kubeflow-batch-predict==0.1a0) (0.26.0)\n",
      "Requirement already satisfied: proto-google-cloud-datastore-v1<=0.90.4,>=0.90.0; extra == \"gcp\" in /home/jovyan/.local/lib/python2.7/site-packages (from apache-beam[gcp]>=2.5.0->kubeflow-batch-predict==0.1a0) (0.90.4)\n",
      "Requirement already satisfied: beautifulsoup4 in /home/jovyan/.local/lib/python2.7/site-packages (from bs4<1.0,>=0.0.1->kubeflow-batch-predict==0.1a0) (4.7.1)\n",
      "Requirement already satisfied: rsa>=3.1.4 in /home/jovyan/.local/lib/python2.7/site-packages (from oauth2client>=2.2.0->kubeflow-batch-predict==0.1a0) (4.0)\n",
      "Requirement already satisfied: pyasn1>=0.1.7 in /home/jovyan/.local/lib/python2.7/site-packages (from oauth2client>=2.2.0->kubeflow-batch-predict==0.1a0) (0.4.5)\n",
      "Requirement already satisfied: pyasn1-modules>=0.0.5 in /home/jovyan/.local/lib/python2.7/site-packages (from oauth2client>=2.2.0->kubeflow-batch-predict==0.1a0) (0.2.4)\n",
      "Requirement already satisfied: setuptools in /usr/lib/python2.7/dist-packages (from protobuf<4.0,>=3.1.0->kubeflow-batch-predict==0.1a0) (39.0.1)\n",
      "Requirement already satisfied: gast>=0.2.0 in /home/jovyan/.local/lib/python2.7/site-packages (from tensorflow>=1.0.0->kubeflow-batch-predict==0.1a0) (0.2.2)\n",
      "Requirement already satisfied: absl-py>=0.1.6 in /home/jovyan/.local/lib/python2.7/site-packages (from tensorflow>=1.0.0->kubeflow-batch-predict==0.1a0) (0.7.0)\n",
      "Requirement already satisfied: wheel in /usr/lib/python2.7/dist-packages (from tensorflow>=1.0.0->kubeflow-batch-predict==0.1a0) (0.30.0)\n",
      "Requirement already satisfied: keras-preprocessing>=1.0.3 in /home/jovyan/.local/lib/python2.7/site-packages (from tensorflow>=1.0.0->kubeflow-batch-predict==0.1a0) (1.0.9)\n",
      "Requirement already satisfied: termcolor>=1.1.0 in /home/jovyan/.local/lib/python2.7/site-packages (from tensorflow>=1.0.0->kubeflow-batch-predict==0.1a0) (1.1.0)\n",
      "Requirement already satisfied: keras-applications>=1.0.5 in /home/jovyan/.local/lib/python2.7/site-packages (from tensorflow>=1.0.0->kubeflow-batch-predict==0.1a0) (1.0.7)\n",
      "Requirement already satisfied: tensorboard<1.12.0,>=1.11.0 in /home/jovyan/.local/lib/python2.7/site-packages (from tensorflow>=1.0.0->kubeflow-batch-predict==0.1a0) (1.11.0)\n",
      "Requirement already satisfied: backports.weakref>=1.0rc1 in /home/jovyan/.local/lib/python2.7/site-packages (from tensorflow>=1.0.0->kubeflow-batch-predict==0.1a0) (1.0.post1)\n",
      "Requirement already satisfied: astor>=0.6.0 in /home/jovyan/.local/lib/python2.7/site-packages (from tensorflow>=1.0.0->kubeflow-batch-predict==0.1a0) (0.7.1)\n",
      "Requirement already satisfied: docopt in /home/jovyan/.local/lib/python2.7/site-packages (from hdfs<3.0.0,>=2.1.0->apache-beam[gcp]>=2.5.0->kubeflow-batch-predict==0.1a0) (0.6.2)\n",
      "Requirement already satisfied: requests>=2.7.0 in /home/jovyan/.local/lib/python2.7/site-packages (from hdfs<3.0.0,>=2.1.0->apache-beam[gcp]>=2.5.0->kubeflow-batch-predict==0.1a0) (2.19.1)\n",
      "Requirement already satisfied: pyparsing>=2.1.4 in /home/jovyan/.local/lib/python2.7/site-packages (from pydot<1.3,>=1.2.0->apache-beam[gcp]>=2.5.0->kubeflow-batch-predict==0.1a0) (2.3.1)\n",
      "Requirement already satisfied: funcsigs>=1; python_version < \"3.3\" in /home/jovyan/.local/lib/python2.7/site-packages (from mock<3.0.0,>=1.0.1->apache-beam[gcp]>=2.5.0->kubeflow-batch-predict==0.1a0) (1.0.2)\n",
      "Requirement already satisfied: pbr>=0.11 in /home/jovyan/.local/lib/python2.7/site-packages (from mock<3.0.0,>=1.0.1->apache-beam[gcp]>=2.5.0->kubeflow-batch-predict==0.1a0) (5.1.3)\n",
      "Requirement already satisfied: fasteners>=0.14 in /home/jovyan/.local/lib/python2.7/site-packages (from google-apitools<=0.5.20,>=0.5.18; extra == \"gcp\"->apache-beam[gcp]>=2.5.0->kubeflow-batch-predict==0.1a0) (0.14.1)\n"
     ]
    },
    {
     "name": "stdout",
     "output_type": "stream",
     "text": [
      "Requirement already satisfied: googleapis-common-protos<2.0dev,>=1.5.2 in /home/jovyan/.local/lib/python2.7/site-packages (from proto-google-cloud-pubsub-v1==0.15.4; extra == \"gcp\"->apache-beam[gcp]>=2.5.0->kubeflow-batch-predict==0.1a0) (1.5.8)\n",
      "Requirement already satisfied: google-cloud-core<0.26dev,>=0.25.0 in /home/jovyan/.local/lib/python2.7/site-packages (from google-cloud-bigquery==0.25.0; extra == \"gcp\"->apache-beam[gcp]>=2.5.0->kubeflow-batch-predict==0.1a0) (0.25.0)\n",
      "Requirement already satisfied: gapic-google-cloud-pubsub-v1<0.16dev,>=0.15.0 in /home/jovyan/.local/lib/python2.7/site-packages (from google-cloud-pubsub==0.26.0; extra == \"gcp\"->apache-beam[gcp]>=2.5.0->kubeflow-batch-predict==0.1a0) (0.15.4)\n",
      "Requirement already satisfied: soupsieve>=1.2 in /home/jovyan/.local/lib/python2.7/site-packages (from beautifulsoup4->bs4<1.0,>=0.0.1->kubeflow-batch-predict==0.1a0) (1.8)\n",
      "Requirement already satisfied: h5py in /home/jovyan/.local/lib/python2.7/site-packages (from keras-applications>=1.0.5->tensorflow>=1.0.0->kubeflow-batch-predict==0.1a0) (2.9.0)\n",
      "Requirement already satisfied: werkzeug>=0.11.10 in /home/jovyan/.local/lib/python2.7/site-packages (from tensorboard<1.12.0,>=1.11.0->tensorflow>=1.0.0->kubeflow-batch-predict==0.1a0) (0.14.1)\n",
      "Requirement already satisfied: markdown>=2.6.8 in /home/jovyan/.local/lib/python2.7/site-packages (from tensorboard<1.12.0,>=1.11.0->tensorflow>=1.0.0->kubeflow-batch-predict==0.1a0) (3.0.1)\n",
      "Requirement already satisfied: idna<2.8,>=2.5 in /usr/lib/python2.7/dist-packages (from requests>=2.7.0->hdfs<3.0.0,>=2.1.0->apache-beam[gcp]>=2.5.0->kubeflow-batch-predict==0.1a0) (2.6)\n",
      "Requirement already satisfied: certifi>=2017.4.17 in /home/jovyan/.local/lib/python2.7/site-packages (from requests>=2.7.0->hdfs<3.0.0,>=2.1.0->apache-beam[gcp]>=2.5.0->kubeflow-batch-predict==0.1a0) (2019.3.9)\n",
      "Requirement already satisfied: chardet<3.1.0,>=3.0.2 in /home/jovyan/.local/lib/python2.7/site-packages (from requests>=2.7.0->hdfs<3.0.0,>=2.1.0->apache-beam[gcp]>=2.5.0->kubeflow-batch-predict==0.1a0) (3.0.4)\n",
      "Requirement already satisfied: urllib3<1.24,>=1.21.1 in /home/jovyan/.local/lib/python2.7/site-packages (from requests>=2.7.0->hdfs<3.0.0,>=2.1.0->apache-beam[gcp]>=2.5.0->kubeflow-batch-predict==0.1a0) (1.23)\n",
      "Requirement already satisfied: monotonic>=0.1 in /home/jovyan/.local/lib/python2.7/site-packages (from fasteners>=0.14->google-apitools<=0.5.20,>=0.5.18; extra == \"gcp\"->apache-beam[gcp]>=2.5.0->kubeflow-batch-predict==0.1a0) (1.5)\n",
      "Requirement already satisfied: google-auth-httplib2 in /home/jovyan/.local/lib/python2.7/site-packages (from google-cloud-core<0.26dev,>=0.25.0->google-cloud-bigquery==0.25.0; extra == \"gcp\"->apache-beam[gcp]>=2.5.0->kubeflow-batch-predict==0.1a0) (0.0.3)\n",
      "Requirement already satisfied: google-auth<2.0.0dev,>=0.4.0 in /home/jovyan/.local/lib/python2.7/site-packages (from google-cloud-core<0.26dev,>=0.25.0->google-cloud-bigquery==0.25.0; extra == \"gcp\"->apache-beam[gcp]>=2.5.0->kubeflow-batch-predict==0.1a0) (1.6.3)\n",
      "Requirement already satisfied: grpc-google-iam-v1<0.12dev,>=0.11.1 in /home/jovyan/.local/lib/python2.7/site-packages (from gapic-google-cloud-pubsub-v1<0.16dev,>=0.15.0->google-cloud-pubsub==0.26.0; extra == \"gcp\"->apache-beam[gcp]>=2.5.0->kubeflow-batch-predict==0.1a0) (0.11.4)\n",
      "Requirement already satisfied: google-gax<0.16dev,>=0.15.7 in /home/jovyan/.local/lib/python2.7/site-packages (from gapic-google-cloud-pubsub-v1<0.16dev,>=0.15.0->google-cloud-pubsub==0.26.0; extra == \"gcp\"->apache-beam[gcp]>=2.5.0->kubeflow-batch-predict==0.1a0) (0.15.16)\n",
      "Requirement already satisfied: backports.functools-lru-cache; python_version < \"3\" in /home/jovyan/.local/lib/python2.7/site-packages (from soupsieve>=1.2->beautifulsoup4->bs4<1.0,>=0.0.1->kubeflow-batch-predict==0.1a0) (1.5)\n",
      "Requirement already satisfied: cachetools>=2.0.0 in /home/jovyan/.local/lib/python2.7/site-packages (from google-auth<2.0.0dev,>=0.4.0->google-cloud-core<0.26dev,>=0.25.0->google-cloud-bigquery==0.25.0; extra == \"gcp\"->apache-beam[gcp]>=2.5.0->kubeflow-batch-predict==0.1a0) (3.1.0)\n",
      "Requirement already satisfied: ply==3.8 in /home/jovyan/.local/lib/python2.7/site-packages (from google-gax<0.16dev,>=0.15.7->gapic-google-cloud-pubsub-v1<0.16dev,>=0.15.0->google-cloud-pubsub==0.26.0; extra == \"gcp\"->apache-beam[gcp]>=2.5.0->kubeflow-batch-predict==0.1a0) (3.8)\n",
      "Building wheels for collected packages: kubeflow-batch-predict\n",
      "  Building wheel for kubeflow-batch-predict (setup.py) ... \u001b[?25ldone\n",
      "\u001b[?25h  Stored in directory: /tmp/pip-ephem-wheel-cache-w6Poij/wheels/40/87/a9/6c0fe073634cb0267c22fe791f459929278005b253a2acf023\n",
      "Successfully built kubeflow-batch-predict\n",
      "\u001b[33mDEPRECATION: Python 2.7 will reach the end of its life on January 1st, 2020. Please upgrade your Python as Python 2.7 won't be maintained after that date. A future version of pip will drop support for Python 2.7.\u001b[0m\n",
      "Requirement already satisfied: apache-beam[gcp]~=2.8.0 in /home/jovyan/.local/lib/python2.7/site-packages (from -r src/requirements.ui.txt (line 1)) (2.8.0)\n",
      "Requirement already satisfied: Flask~=1.0.0 in /home/jovyan/.local/lib/python2.7/site-packages (from -r src/requirements.ui.txt (line 2)) (1.0.2)\n",
      "Requirement already satisfied: nltk~=3.3.0 in /home/jovyan/.local/lib/python2.7/site-packages (from -r src/requirements.ui.txt (line 3)) (3.3)\n",
      "Requirement already satisfied: oauth2client~=4.1.0 in /home/jovyan/.local/lib/python2.7/site-packages (from -r src/requirements.ui.txt (line 4)) (4.1.3)\n",
      "Requirement already satisfied: requests~=2.19.0 in /home/jovyan/.local/lib/python2.7/site-packages (from -r src/requirements.ui.txt (line 5)) (2.19.1)\n",
      "Requirement already satisfied: spacy~=2.0.0 in /home/jovyan/.local/lib/python2.7/site-packages (from -r src/requirements.ui.txt (line 6)) (2.0.18)\n",
      "Requirement already satisfied: tensor2tensor~=1.9.0 in /home/jovyan/.local/lib/python2.7/site-packages (from -r src/requirements.ui.txt (line 7)) (1.9.0)\n",
      "Requirement already satisfied: tensorflow~=1.11.0 in /home/jovyan/.local/lib/python2.7/site-packages (from -r src/requirements.ui.txt (line 8)) (1.11.0)\n",
      "Requirement already satisfied: pydot<1.3,>=1.2.0 in /home/jovyan/.local/lib/python2.7/site-packages (from apache-beam[gcp]~=2.8.0->-r src/requirements.ui.txt (line 1)) (1.2.4)\n",
      "Requirement already satisfied: pyyaml<4.0.0,>=3.12 in /home/jovyan/.local/lib/python2.7/site-packages (from apache-beam[gcp]~=2.8.0->-r src/requirements.ui.txt (line 1)) (3.13)\n",
      "Requirement already satisfied: pyvcf<0.7.0,>=0.6.8 in /home/jovyan/.local/lib/python2.7/site-packages (from apache-beam[gcp]~=2.8.0->-r src/requirements.ui.txt (line 1)) (0.6.8)\n",
      "Requirement already satisfied: hdfs<3.0.0,>=2.1.0 in /home/jovyan/.local/lib/python2.7/site-packages (from apache-beam[gcp]~=2.8.0->-r src/requirements.ui.txt (line 1)) (2.2.2)\n",
      "Requirement already satisfied: mock<3.0.0,>=1.0.1 in /home/jovyan/.local/lib/python2.7/site-packages (from apache-beam[gcp]~=2.8.0->-r src/requirements.ui.txt (line 1)) (2.0.0)\n",
      "Requirement already satisfied: httplib2<=0.11.3,>=0.8 in /home/jovyan/.local/lib/python2.7/site-packages (from apache-beam[gcp]~=2.8.0->-r src/requirements.ui.txt (line 1)) (0.11.3)\n",
      "Requirement already satisfied: dill<=0.2.8.2,>=0.2.6 in /home/jovyan/.local/lib/python2.7/site-packages (from apache-beam[gcp]~=2.8.0->-r src/requirements.ui.txt (line 1)) (0.2.8.2)\n",
      "Requirement already satisfied: future<1.0.0,>=0.16.0 in /home/jovyan/.local/lib/python2.7/site-packages (from apache-beam[gcp]~=2.8.0->-r src/requirements.ui.txt (line 1)) (0.17.1)\n",
      "Requirement already satisfied: fastavro<0.22,>=0.21.4 in /home/jovyan/.local/lib/python2.7/site-packages (from apache-beam[gcp]~=2.8.0->-r src/requirements.ui.txt (line 1)) (0.21.19)\n",
      "Requirement already satisfied: typing<3.7.0,>=3.6.0; python_version < \"3.5.0\" in /home/jovyan/.local/lib/python2.7/site-packages (from apache-beam[gcp]~=2.8.0->-r src/requirements.ui.txt (line 1)) (3.6.6)\n",
      "Requirement already satisfied: grpcio<2,>=1.8 in /home/jovyan/.local/lib/python2.7/site-packages (from apache-beam[gcp]~=2.8.0->-r src/requirements.ui.txt (line 1)) (1.19.0)\n",
      "Requirement already satisfied: futures<4.0.0,>=3.1.1 in /home/jovyan/.local/lib/python2.7/site-packages (from apache-beam[gcp]~=2.8.0->-r src/requirements.ui.txt (line 1)) (3.2.0)\n",
      "Requirement already satisfied: pytz<=2018.4,>=2018.3 in /home/jovyan/.local/lib/python2.7/site-packages (from apache-beam[gcp]~=2.8.0->-r src/requirements.ui.txt (line 1)) (2018.4)\n",
      "Requirement already satisfied: avro<2.0.0,>=1.8.1 in /home/jovyan/.local/lib/python2.7/site-packages (from apache-beam[gcp]~=2.8.0->-r src/requirements.ui.txt (line 1)) (1.8.2)\n",
      "Requirement already satisfied: protobuf<4,>=3.5.0.post1 in /home/jovyan/.local/lib/python2.7/site-packages (from apache-beam[gcp]~=2.8.0->-r src/requirements.ui.txt (line 1)) (3.7.0)\n",
      "Requirement already satisfied: crcmod<2.0,>=1.7 in /usr/lib/python2.7/dist-packages (from apache-beam[gcp]~=2.8.0->-r src/requirements.ui.txt (line 1)) (1.7)\n",
      "Requirement already satisfied: google-apitools<=0.5.20,>=0.5.18; extra == \"gcp\" in /home/jovyan/.local/lib/python2.7/site-packages (from apache-beam[gcp]~=2.8.0->-r src/requirements.ui.txt (line 1)) (0.5.20)\n"
     ]
    },
    {
     "name": "stdout",
     "output_type": "stream",
     "text": [
      "Requirement already satisfied: proto-google-cloud-pubsub-v1==0.15.4; extra == \"gcp\" in /home/jovyan/.local/lib/python2.7/site-packages (from apache-beam[gcp]~=2.8.0->-r src/requirements.ui.txt (line 1)) (0.15.4)\n",
      "Requirement already satisfied: googledatastore==7.0.1; python_version < \"3.0\" and extra == \"gcp\" in /home/jovyan/.local/lib/python2.7/site-packages (from apache-beam[gcp]~=2.8.0->-r src/requirements.ui.txt (line 1)) (7.0.1)\n",
      "Requirement already satisfied: google-cloud-bigquery==0.25.0; extra == \"gcp\" in /home/jovyan/.local/lib/python2.7/site-packages (from apache-beam[gcp]~=2.8.0->-r src/requirements.ui.txt (line 1)) (0.25.0)\n",
      "Requirement already satisfied: google-cloud-pubsub==0.26.0; extra == \"gcp\" in /home/jovyan/.local/lib/python2.7/site-packages (from apache-beam[gcp]~=2.8.0->-r src/requirements.ui.txt (line 1)) (0.26.0)\n",
      "Requirement already satisfied: proto-google-cloud-datastore-v1<=0.90.4,>=0.90.0; extra == \"gcp\" in /home/jovyan/.local/lib/python2.7/site-packages (from apache-beam[gcp]~=2.8.0->-r src/requirements.ui.txt (line 1)) (0.90.4)\n",
      "Requirement already satisfied: Werkzeug>=0.14 in /home/jovyan/.local/lib/python2.7/site-packages (from Flask~=1.0.0->-r src/requirements.ui.txt (line 2)) (0.14.1)\n",
      "Requirement already satisfied: click>=5.1 in /home/jovyan/.local/lib/python2.7/site-packages (from Flask~=1.0.0->-r src/requirements.ui.txt (line 2)) (7.0)\n",
      "Requirement already satisfied: Jinja2>=2.10 in /home/jovyan/.local/lib/python2.7/site-packages (from Flask~=1.0.0->-r src/requirements.ui.txt (line 2)) (2.10)\n",
      "Requirement already satisfied: itsdangerous>=0.24 in /home/jovyan/.local/lib/python2.7/site-packages (from Flask~=1.0.0->-r src/requirements.ui.txt (line 2)) (1.1.0)\n",
      "Requirement already satisfied: six in /home/jovyan/.local/lib/python2.7/site-packages (from nltk~=3.3.0->-r src/requirements.ui.txt (line 3)) (1.10.0)\n",
      "Requirement already satisfied: rsa>=3.1.4 in /home/jovyan/.local/lib/python2.7/site-packages (from oauth2client~=4.1.0->-r src/requirements.ui.txt (line 4)) (4.0)\n",
      "Requirement already satisfied: pyasn1>=0.1.7 in /home/jovyan/.local/lib/python2.7/site-packages (from oauth2client~=4.1.0->-r src/requirements.ui.txt (line 4)) (0.4.5)\n",
      "Requirement already satisfied: pyasn1-modules>=0.0.5 in /home/jovyan/.local/lib/python2.7/site-packages (from oauth2client~=4.1.0->-r src/requirements.ui.txt (line 4)) (0.2.4)\n",
      "Requirement already satisfied: idna<2.8,>=2.5 in /usr/lib/python2.7/dist-packages (from requests~=2.19.0->-r src/requirements.ui.txt (line 5)) (2.6)\n",
      "Requirement already satisfied: certifi>=2017.4.17 in /home/jovyan/.local/lib/python2.7/site-packages (from requests~=2.19.0->-r src/requirements.ui.txt (line 5)) (2019.3.9)\n",
      "Requirement already satisfied: chardet<3.1.0,>=3.0.2 in /home/jovyan/.local/lib/python2.7/site-packages (from requests~=2.19.0->-r src/requirements.ui.txt (line 5)) (3.0.4)\n",
      "Requirement already satisfied: urllib3<1.24,>=1.21.1 in /home/jovyan/.local/lib/python2.7/site-packages (from requests~=2.19.0->-r src/requirements.ui.txt (line 5)) (1.23)\n",
      "Requirement already satisfied: preshed<2.1.0,>=2.0.1 in /home/jovyan/.local/lib/python2.7/site-packages (from spacy~=2.0.0->-r src/requirements.ui.txt (line 6)) (2.0.1)\n",
      "Requirement already satisfied: pathlib==1.0.1; python_version < \"3.4\" in /home/jovyan/.local/lib/python2.7/site-packages (from spacy~=2.0.0->-r src/requirements.ui.txt (line 6)) (1.0.1)\n",
      "Requirement already satisfied: thinc<6.13.0,>=6.12.1 in /home/jovyan/.local/lib/python2.7/site-packages (from spacy~=2.0.0->-r src/requirements.ui.txt (line 6)) (6.12.1)\n",
      "Requirement already satisfied: plac<1.0.0,>=0.9.6 in /home/jovyan/.local/lib/python2.7/site-packages (from spacy~=2.0.0->-r src/requirements.ui.txt (line 6)) (0.9.6)\n",
      "Requirement already satisfied: cymem<2.1.0,>=2.0.2 in /home/jovyan/.local/lib/python2.7/site-packages (from spacy~=2.0.0->-r src/requirements.ui.txt (line 6)) (2.0.2)\n",
      "Requirement already satisfied: numpy>=1.15.0 in /home/jovyan/.local/lib/python2.7/site-packages (from spacy~=2.0.0->-r src/requirements.ui.txt (line 6)) (1.16.2)\n",
      "Requirement already satisfied: ujson>=1.35 in /home/jovyan/.local/lib/python2.7/site-packages (from spacy~=2.0.0->-r src/requirements.ui.txt (line 6)) (1.35)\n",
      "Requirement already satisfied: regex==2018.01.10 in /home/jovyan/.local/lib/python2.7/site-packages (from spacy~=2.0.0->-r src/requirements.ui.txt (line 6)) (2018.1.10)\n",
      "Requirement already satisfied: murmurhash<1.1.0,>=0.28.0 in /home/jovyan/.local/lib/python2.7/site-packages (from spacy~=2.0.0->-r src/requirements.ui.txt (line 6)) (1.0.2)\n",
      "Requirement already satisfied: gunicorn in /home/jovyan/.local/lib/python2.7/site-packages (from tensor2tensor~=1.9.0->-r src/requirements.ui.txt (line 7)) (19.9.0)\n",
      "Requirement already satisfied: google-api-python-client in /home/jovyan/.local/lib/python2.7/site-packages (from tensor2tensor~=1.9.0->-r src/requirements.ui.txt (line 7)) (1.7.8)\n",
      "Requirement already satisfied: tqdm in /home/jovyan/.local/lib/python2.7/site-packages (from tensor2tensor~=1.9.0->-r src/requirements.ui.txt (line 7)) (4.31.1)\n",
      "Requirement already satisfied: bz2file in /home/jovyan/.local/lib/python2.7/site-packages (from tensor2tensor~=1.9.0->-r src/requirements.ui.txt (line 7)) (0.98)\n",
      "Requirement already satisfied: gevent in /home/jovyan/.local/lib/python2.7/site-packages (from tensor2tensor~=1.9.0->-r src/requirements.ui.txt (line 7)) (1.4.0)\n",
      "Requirement already satisfied: sympy in /home/jovyan/.local/lib/python2.7/site-packages (from tensor2tensor~=1.9.0->-r src/requirements.ui.txt (line 7)) (1.3)\n",
      "Requirement already satisfied: gym in /home/jovyan/.local/lib/python2.7/site-packages (from tensor2tensor~=1.9.0->-r src/requirements.ui.txt (line 7)) (0.12.0)\n",
      "Requirement already satisfied: h5py in /home/jovyan/.local/lib/python2.7/site-packages (from tensor2tensor~=1.9.0->-r src/requirements.ui.txt (line 7)) (2.9.0)\n",
      "Requirement already satisfied: scipy in /home/jovyan/.local/lib/python2.7/site-packages (from tensor2tensor~=1.9.0->-r src/requirements.ui.txt (line 7)) (1.2.1)\n",
      "Requirement already satisfied: enum34>=1.1.6 in /usr/lib/python2.7/dist-packages (from tensorflow~=1.11.0->-r src/requirements.ui.txt (line 8)) (1.1.6)\n",
      "Requirement already satisfied: gast>=0.2.0 in /home/jovyan/.local/lib/python2.7/site-packages (from tensorflow~=1.11.0->-r src/requirements.ui.txt (line 8)) (0.2.2)\n",
      "Requirement already satisfied: absl-py>=0.1.6 in /home/jovyan/.local/lib/python2.7/site-packages (from tensorflow~=1.11.0->-r src/requirements.ui.txt (line 8)) (0.7.0)\n",
      "Requirement already satisfied: wheel in /usr/lib/python2.7/dist-packages (from tensorflow~=1.11.0->-r src/requirements.ui.txt (line 8)) (0.30.0)\n",
      "Requirement already satisfied: keras-preprocessing>=1.0.3 in /home/jovyan/.local/lib/python2.7/site-packages (from tensorflow~=1.11.0->-r src/requirements.ui.txt (line 8)) (1.0.9)\n",
      "Requirement already satisfied: termcolor>=1.1.0 in /home/jovyan/.local/lib/python2.7/site-packages (from tensorflow~=1.11.0->-r src/requirements.ui.txt (line 8)) (1.1.0)\n",
      "Requirement already satisfied: keras-applications>=1.0.5 in /home/jovyan/.local/lib/python2.7/site-packages (from tensorflow~=1.11.0->-r src/requirements.ui.txt (line 8)) (1.0.7)\n",
      "Requirement already satisfied: tensorboard<1.12.0,>=1.11.0 in /home/jovyan/.local/lib/python2.7/site-packages (from tensorflow~=1.11.0->-r src/requirements.ui.txt (line 8)) (1.11.0)\n",
      "Requirement already satisfied: backports.weakref>=1.0rc1 in /home/jovyan/.local/lib/python2.7/site-packages (from tensorflow~=1.11.0->-r src/requirements.ui.txt (line 8)) (1.0.post1)\n",
      "Requirement already satisfied: setuptools<=39.1.0 in /usr/lib/python2.7/dist-packages (from tensorflow~=1.11.0->-r src/requirements.ui.txt (line 8)) (39.0.1)\n",
      "Requirement already satisfied: astor>=0.6.0 in /home/jovyan/.local/lib/python2.7/site-packages (from tensorflow~=1.11.0->-r src/requirements.ui.txt (line 8)) (0.7.1)\n",
      "Requirement already satisfied: pyparsing>=2.1.4 in /home/jovyan/.local/lib/python2.7/site-packages (from pydot<1.3,>=1.2.0->apache-beam[gcp]~=2.8.0->-r src/requirements.ui.txt (line 1)) (2.3.1)\n",
      "Requirement already satisfied: docopt in /home/jovyan/.local/lib/python2.7/site-packages (from hdfs<3.0.0,>=2.1.0->apache-beam[gcp]~=2.8.0->-r src/requirements.ui.txt (line 1)) (0.6.2)\n"
     ]
    },
    {
     "name": "stdout",
     "output_type": "stream",
     "text": [
      "Requirement already satisfied: funcsigs>=1; python_version < \"3.3\" in /home/jovyan/.local/lib/python2.7/site-packages (from mock<3.0.0,>=1.0.1->apache-beam[gcp]~=2.8.0->-r src/requirements.ui.txt (line 1)) (1.0.2)\n",
      "Requirement already satisfied: pbr>=0.11 in /home/jovyan/.local/lib/python2.7/site-packages (from mock<3.0.0,>=1.0.1->apache-beam[gcp]~=2.8.0->-r src/requirements.ui.txt (line 1)) (5.1.3)\n",
      "Requirement already satisfied: fasteners>=0.14 in /home/jovyan/.local/lib/python2.7/site-packages (from google-apitools<=0.5.20,>=0.5.18; extra == \"gcp\"->apache-beam[gcp]~=2.8.0->-r src/requirements.ui.txt (line 1)) (0.14.1)\n",
      "Requirement already satisfied: googleapis-common-protos<2.0dev,>=1.5.2 in /home/jovyan/.local/lib/python2.7/site-packages (from proto-google-cloud-pubsub-v1==0.15.4; extra == \"gcp\"->apache-beam[gcp]~=2.8.0->-r src/requirements.ui.txt (line 1)) (1.5.8)\n",
      "Requirement already satisfied: google-cloud-core<0.26dev,>=0.25.0 in /home/jovyan/.local/lib/python2.7/site-packages (from google-cloud-bigquery==0.25.0; extra == \"gcp\"->apache-beam[gcp]~=2.8.0->-r src/requirements.ui.txt (line 1)) (0.25.0)\n",
      "Requirement already satisfied: gapic-google-cloud-pubsub-v1<0.16dev,>=0.15.0 in /home/jovyan/.local/lib/python2.7/site-packages (from google-cloud-pubsub==0.26.0; extra == \"gcp\"->apache-beam[gcp]~=2.8.0->-r src/requirements.ui.txt (line 1)) (0.15.4)\n",
      "Requirement already satisfied: MarkupSafe>=0.23 in /home/jovyan/.local/lib/python2.7/site-packages (from Jinja2>=2.10->Flask~=1.0.0->-r src/requirements.ui.txt (line 2)) (1.1.1)\n",
      "Requirement already satisfied: msgpack-numpy<0.4.4 in /home/jovyan/.local/lib/python2.7/site-packages (from thinc<6.13.0,>=6.12.1->spacy~=2.0.0->-r src/requirements.ui.txt (line 6)) (0.4.3.2)\n",
      "Requirement already satisfied: msgpack<0.6.0,>=0.5.6 in /home/jovyan/.local/lib/python2.7/site-packages (from thinc<6.13.0,>=6.12.1->spacy~=2.0.0->-r src/requirements.ui.txt (line 6)) (0.5.6)\n",
      "Requirement already satisfied: wrapt<1.11.0,>=1.10.0 in /home/jovyan/.local/lib/python2.7/site-packages (from thinc<6.13.0,>=6.12.1->spacy~=2.0.0->-r src/requirements.ui.txt (line 6)) (1.10.11)\n",
      "Requirement already satisfied: cytoolz<0.10,>=0.9.0 in /home/jovyan/.local/lib/python2.7/site-packages (from thinc<6.13.0,>=6.12.1->spacy~=2.0.0->-r src/requirements.ui.txt (line 6)) (0.9.0.1)\n",
      "Requirement already satisfied: uritemplate<4dev,>=3.0.0 in /home/jovyan/.local/lib/python2.7/site-packages (from google-api-python-client->tensor2tensor~=1.9.0->-r src/requirements.ui.txt (line 7)) (3.0.0)\n",
      "Requirement already satisfied: google-auth-httplib2>=0.0.3 in /home/jovyan/.local/lib/python2.7/site-packages (from google-api-python-client->tensor2tensor~=1.9.0->-r src/requirements.ui.txt (line 7)) (0.0.3)\n",
      "Requirement already satisfied: google-auth>=1.4.1 in /home/jovyan/.local/lib/python2.7/site-packages (from google-api-python-client->tensor2tensor~=1.9.0->-r src/requirements.ui.txt (line 7)) (1.6.3)\n",
      "Requirement already satisfied: greenlet>=0.4.14; platform_python_implementation == \"CPython\" in /home/jovyan/.local/lib/python2.7/site-packages (from gevent->tensor2tensor~=1.9.0->-r src/requirements.ui.txt (line 7)) (0.4.15)\n",
      "Requirement already satisfied: mpmath>=0.19 in /home/jovyan/.local/lib/python2.7/site-packages (from sympy->tensor2tensor~=1.9.0->-r src/requirements.ui.txt (line 7)) (1.1.0)\n",
      "Requirement already satisfied: pyglet>=1.2.0 in /home/jovyan/.local/lib/python2.7/site-packages (from gym->tensor2tensor~=1.9.0->-r src/requirements.ui.txt (line 7)) (1.3.2)\n",
      "Requirement already satisfied: markdown>=2.6.8 in /home/jovyan/.local/lib/python2.7/site-packages (from tensorboard<1.12.0,>=1.11.0->tensorflow~=1.11.0->-r src/requirements.ui.txt (line 8)) (3.0.1)\n",
      "Requirement already satisfied: monotonic>=0.1 in /home/jovyan/.local/lib/python2.7/site-packages (from fasteners>=0.14->google-apitools<=0.5.20,>=0.5.18; extra == \"gcp\"->apache-beam[gcp]~=2.8.0->-r src/requirements.ui.txt (line 1)) (1.5)\n",
      "Requirement already satisfied: grpc-google-iam-v1<0.12dev,>=0.11.1 in /home/jovyan/.local/lib/python2.7/site-packages (from gapic-google-cloud-pubsub-v1<0.16dev,>=0.15.0->google-cloud-pubsub==0.26.0; extra == \"gcp\"->apache-beam[gcp]~=2.8.0->-r src/requirements.ui.txt (line 1)) (0.11.4)\n",
      "Requirement already satisfied: google-gax<0.16dev,>=0.15.7 in /home/jovyan/.local/lib/python2.7/site-packages (from gapic-google-cloud-pubsub-v1<0.16dev,>=0.15.0->google-cloud-pubsub==0.26.0; extra == \"gcp\"->apache-beam[gcp]~=2.8.0->-r src/requirements.ui.txt (line 1)) (0.15.16)\n",
      "Requirement already satisfied: toolz>=0.8.0 in /home/jovyan/.local/lib/python2.7/site-packages (from cytoolz<0.10,>=0.9.0->thinc<6.13.0,>=6.12.1->spacy~=2.0.0->-r src/requirements.ui.txt (line 6)) (0.9.0)\n",
      "Requirement already satisfied: cachetools>=2.0.0 in /home/jovyan/.local/lib/python2.7/site-packages (from google-auth>=1.4.1->google-api-python-client->tensor2tensor~=1.9.0->-r src/requirements.ui.txt (line 7)) (3.1.0)\n",
      "Requirement already satisfied: ply==3.8 in /home/jovyan/.local/lib/python2.7/site-packages (from google-gax<0.16dev,>=0.15.7->gapic-google-cloud-pubsub-v1<0.16dev,>=0.15.0->google-cloud-pubsub==0.26.0; extra == \"gcp\"->apache-beam[gcp]~=2.8.0->-r src/requirements.ui.txt (line 1)) (3.8)\n",
      "\u001b[33mDEPRECATION: Python 2.7 will reach the end of its life on January 1st, 2020. Please upgrade your Python as Python 2.7 won't be maintained after that date. A future version of pip will drop support for Python 2.7.\u001b[0m\n",
      "Requirement already satisfied: nmslib~=1.7.0 in /home/jovyan/.local/lib/python2.7/site-packages (from -r src/requirements.nmslib.txt (line 2)) (1.7.3.6)\n",
      "Requirement already satisfied: numpy in /home/jovyan/.local/lib/python2.7/site-packages (from nmslib~=1.7.0->-r src/requirements.nmslib.txt (line 2)) (1.16.2)\n",
      "Requirement already satisfied: pybind11>=2.0 in /home/jovyan/.local/lib/python2.7/site-packages (from nmslib~=1.7.0->-r src/requirements.nmslib.txt (line 2)) (2.2.4)\n",
      "\u001b[33mDEPRECATION: Python 2.7 will reach the end of its life on January 1st, 2020. Please upgrade your Python as Python 2.7 won't be maintained after that date. A future version of pip will drop support for Python 2.7.\u001b[0m\n",
      "Requirement already satisfied: astor~=0.7.0 in /home/jovyan/.local/lib/python2.7/site-packages (from -r src/requirements.dataflow.txt (line 4)) (0.7.1)\n",
      "Requirement already satisfied: apache-beam[gcp]~=2.8.0 in /home/jovyan/.local/lib/python2.7/site-packages (from -r src/requirements.dataflow.txt (line 5)) (2.8.0)\n",
      "Requirement already satisfied: nltk~=3.3.0 in /home/jovyan/.local/lib/python2.7/site-packages (from -r src/requirements.dataflow.txt (line 6)) (3.3)\n",
      "Requirement already satisfied: oauth2client~=4.1.0 in /home/jovyan/.local/lib/python2.7/site-packages (from -r src/requirements.dataflow.txt (line 7)) (4.1.3)\n",
      "Requirement already satisfied: spacy~=2.0.0 in /home/jovyan/.local/lib/python2.7/site-packages (from -r src/requirements.dataflow.txt (line 8)) (2.0.18)\n",
      "Requirement already satisfied: tensor2tensor~=1.9.0 in /home/jovyan/.local/lib/python2.7/site-packages (from -r src/requirements.dataflow.txt (line 9)) (1.9.0)\n",
      "Requirement already satisfied: pybind11~=2.2.4 in /home/jovyan/.local/lib/python2.7/site-packages (from -r src/requirements.dataflow.txt (line 10)) (2.2.4)\n",
      "Requirement already satisfied: pyyaml<4.0.0,>=3.12 in /home/jovyan/.local/lib/python2.7/site-packages (from apache-beam[gcp]~=2.8.0->-r src/requirements.dataflow.txt (line 5)) (3.13)\n",
      "Requirement already satisfied: futures<4.0.0,>=3.1.1 in /home/jovyan/.local/lib/python2.7/site-packages (from apache-beam[gcp]~=2.8.0->-r src/requirements.dataflow.txt (line 5)) (3.2.0)\n",
      "Requirement already satisfied: hdfs<3.0.0,>=2.1.0 in /home/jovyan/.local/lib/python2.7/site-packages (from apache-beam[gcp]~=2.8.0->-r src/requirements.dataflow.txt (line 5)) (2.2.2)\n",
      "Requirement already satisfied: pyvcf<0.7.0,>=0.6.8 in /home/jovyan/.local/lib/python2.7/site-packages (from apache-beam[gcp]~=2.8.0->-r src/requirements.dataflow.txt (line 5)) (0.6.8)\n",
      "Requirement already satisfied: httplib2<=0.11.3,>=0.8 in /home/jovyan/.local/lib/python2.7/site-packages (from apache-beam[gcp]~=2.8.0->-r src/requirements.dataflow.txt (line 5)) (0.11.3)\n",
      "Requirement already satisfied: dill<=0.2.8.2,>=0.2.6 in /home/jovyan/.local/lib/python2.7/site-packages (from apache-beam[gcp]~=2.8.0->-r src/requirements.dataflow.txt (line 5)) (0.2.8.2)\n",
      "Requirement already satisfied: future<1.0.0,>=0.16.0 in /home/jovyan/.local/lib/python2.7/site-packages (from apache-beam[gcp]~=2.8.0->-r src/requirements.dataflow.txt (line 5)) (0.17.1)\n",
      "Requirement already satisfied: fastavro<0.22,>=0.21.4 in /home/jovyan/.local/lib/python2.7/site-packages (from apache-beam[gcp]~=2.8.0->-r src/requirements.dataflow.txt (line 5)) (0.21.19)\n",
      "Requirement already satisfied: typing<3.7.0,>=3.6.0; python_version < \"3.5.0\" in /home/jovyan/.local/lib/python2.7/site-packages (from apache-beam[gcp]~=2.8.0->-r src/requirements.dataflow.txt (line 5)) (3.6.6)\n",
      "Requirement already satisfied: grpcio<2,>=1.8 in /home/jovyan/.local/lib/python2.7/site-packages (from apache-beam[gcp]~=2.8.0->-r src/requirements.dataflow.txt (line 5)) (1.19.0)\n",
      "Requirement already satisfied: pytz<=2018.4,>=2018.3 in /home/jovyan/.local/lib/python2.7/site-packages (from apache-beam[gcp]~=2.8.0->-r src/requirements.dataflow.txt (line 5)) (2018.4)\n",
      "Requirement already satisfied: protobuf<4,>=3.5.0.post1 in /home/jovyan/.local/lib/python2.7/site-packages (from apache-beam[gcp]~=2.8.0->-r src/requirements.dataflow.txt (line 5)) (3.7.0)\n",
      "Requirement already satisfied: pydot<1.3,>=1.2.0 in /home/jovyan/.local/lib/python2.7/site-packages (from apache-beam[gcp]~=2.8.0->-r src/requirements.dataflow.txt (line 5)) (1.2.4)\n",
      "Requirement already satisfied: mock<3.0.0,>=1.0.1 in /home/jovyan/.local/lib/python2.7/site-packages (from apache-beam[gcp]~=2.8.0->-r src/requirements.dataflow.txt (line 5)) (2.0.0)\n",
      "Requirement already satisfied: avro<2.0.0,>=1.8.1 in /home/jovyan/.local/lib/python2.7/site-packages (from apache-beam[gcp]~=2.8.0->-r src/requirements.dataflow.txt (line 5)) (1.8.2)\n",
      "Requirement already satisfied: crcmod<2.0,>=1.7 in /usr/lib/python2.7/dist-packages (from apache-beam[gcp]~=2.8.0->-r src/requirements.dataflow.txt (line 5)) (1.7)\n",
      "Requirement already satisfied: google-apitools<=0.5.20,>=0.5.18; extra == \"gcp\" in /home/jovyan/.local/lib/python2.7/site-packages (from apache-beam[gcp]~=2.8.0->-r src/requirements.dataflow.txt (line 5)) (0.5.20)\n"
     ]
    },
    {
     "name": "stdout",
     "output_type": "stream",
     "text": [
      "Requirement already satisfied: proto-google-cloud-pubsub-v1==0.15.4; extra == \"gcp\" in /home/jovyan/.local/lib/python2.7/site-packages (from apache-beam[gcp]~=2.8.0->-r src/requirements.dataflow.txt (line 5)) (0.15.4)\n",
      "Requirement already satisfied: googledatastore==7.0.1; python_version < \"3.0\" and extra == \"gcp\" in /home/jovyan/.local/lib/python2.7/site-packages (from apache-beam[gcp]~=2.8.0->-r src/requirements.dataflow.txt (line 5)) (7.0.1)\n",
      "Requirement already satisfied: google-cloud-bigquery==0.25.0; extra == \"gcp\" in /home/jovyan/.local/lib/python2.7/site-packages (from apache-beam[gcp]~=2.8.0->-r src/requirements.dataflow.txt (line 5)) (0.25.0)\n",
      "Requirement already satisfied: google-cloud-pubsub==0.26.0; extra == \"gcp\" in /home/jovyan/.local/lib/python2.7/site-packages (from apache-beam[gcp]~=2.8.0->-r src/requirements.dataflow.txt (line 5)) (0.26.0)\n",
      "Requirement already satisfied: proto-google-cloud-datastore-v1<=0.90.4,>=0.90.0; extra == \"gcp\" in /home/jovyan/.local/lib/python2.7/site-packages (from apache-beam[gcp]~=2.8.0->-r src/requirements.dataflow.txt (line 5)) (0.90.4)\n",
      "Requirement already satisfied: six in /home/jovyan/.local/lib/python2.7/site-packages (from nltk~=3.3.0->-r src/requirements.dataflow.txt (line 6)) (1.10.0)\n",
      "Requirement already satisfied: rsa>=3.1.4 in /home/jovyan/.local/lib/python2.7/site-packages (from oauth2client~=4.1.0->-r src/requirements.dataflow.txt (line 7)) (4.0)\n",
      "Requirement already satisfied: pyasn1>=0.1.7 in /home/jovyan/.local/lib/python2.7/site-packages (from oauth2client~=4.1.0->-r src/requirements.dataflow.txt (line 7)) (0.4.5)\n",
      "Requirement already satisfied: pyasn1-modules>=0.0.5 in /home/jovyan/.local/lib/python2.7/site-packages (from oauth2client~=4.1.0->-r src/requirements.dataflow.txt (line 7)) (0.2.4)\n",
      "Requirement already satisfied: preshed<2.1.0,>=2.0.1 in /home/jovyan/.local/lib/python2.7/site-packages (from spacy~=2.0.0->-r src/requirements.dataflow.txt (line 8)) (2.0.1)\n",
      "Requirement already satisfied: pathlib==1.0.1; python_version < \"3.4\" in /home/jovyan/.local/lib/python2.7/site-packages (from spacy~=2.0.0->-r src/requirements.dataflow.txt (line 8)) (1.0.1)\n",
      "Requirement already satisfied: requests<3.0.0,>=2.13.0 in /home/jovyan/.local/lib/python2.7/site-packages (from spacy~=2.0.0->-r src/requirements.dataflow.txt (line 8)) (2.19.1)\n",
      "Requirement already satisfied: plac<1.0.0,>=0.9.6 in /home/jovyan/.local/lib/python2.7/site-packages (from spacy~=2.0.0->-r src/requirements.dataflow.txt (line 8)) (0.9.6)\n",
      "Requirement already satisfied: cymem<2.1.0,>=2.0.2 in /home/jovyan/.local/lib/python2.7/site-packages (from spacy~=2.0.0->-r src/requirements.dataflow.txt (line 8)) (2.0.2)\n",
      "Requirement already satisfied: thinc<6.13.0,>=6.12.1 in /home/jovyan/.local/lib/python2.7/site-packages (from spacy~=2.0.0->-r src/requirements.dataflow.txt (line 8)) (6.12.1)\n",
      "Requirement already satisfied: numpy>=1.15.0 in /home/jovyan/.local/lib/python2.7/site-packages (from spacy~=2.0.0->-r src/requirements.dataflow.txt (line 8)) (1.16.2)\n",
      "Requirement already satisfied: ujson>=1.35 in /home/jovyan/.local/lib/python2.7/site-packages (from spacy~=2.0.0->-r src/requirements.dataflow.txt (line 8)) (1.35)\n",
      "Requirement already satisfied: regex==2018.01.10 in /home/jovyan/.local/lib/python2.7/site-packages (from spacy~=2.0.0->-r src/requirements.dataflow.txt (line 8)) (2018.1.10)\n",
      "Requirement already satisfied: murmurhash<1.1.0,>=0.28.0 in /home/jovyan/.local/lib/python2.7/site-packages (from spacy~=2.0.0->-r src/requirements.dataflow.txt (line 8)) (1.0.2)\n",
      "Requirement already satisfied: flask in /home/jovyan/.local/lib/python2.7/site-packages (from tensor2tensor~=1.9.0->-r src/requirements.dataflow.txt (line 9)) (1.0.2)\n",
      "Requirement already satisfied: gunicorn in /home/jovyan/.local/lib/python2.7/site-packages (from tensor2tensor~=1.9.0->-r src/requirements.dataflow.txt (line 9)) (19.9.0)\n",
      "Requirement already satisfied: google-api-python-client in /home/jovyan/.local/lib/python2.7/site-packages (from tensor2tensor~=1.9.0->-r src/requirements.dataflow.txt (line 9)) (1.7.8)\n",
      "Requirement already satisfied: tqdm in /home/jovyan/.local/lib/python2.7/site-packages (from tensor2tensor~=1.9.0->-r src/requirements.dataflow.txt (line 9)) (4.31.1)\n",
      "Requirement already satisfied: bz2file in /home/jovyan/.local/lib/python2.7/site-packages (from tensor2tensor~=1.9.0->-r src/requirements.dataflow.txt (line 9)) (0.98)\n",
      "Requirement already satisfied: gevent in /home/jovyan/.local/lib/python2.7/site-packages (from tensor2tensor~=1.9.0->-r src/requirements.dataflow.txt (line 9)) (1.4.0)\n",
      "Requirement already satisfied: sympy in /home/jovyan/.local/lib/python2.7/site-packages (from tensor2tensor~=1.9.0->-r src/requirements.dataflow.txt (line 9)) (1.3)\n",
      "Requirement already satisfied: gym in /home/jovyan/.local/lib/python2.7/site-packages (from tensor2tensor~=1.9.0->-r src/requirements.dataflow.txt (line 9)) (0.12.0)\n",
      "Requirement already satisfied: h5py in /home/jovyan/.local/lib/python2.7/site-packages (from tensor2tensor~=1.9.0->-r src/requirements.dataflow.txt (line 9)) (2.9.0)\n",
      "Requirement already satisfied: scipy in /home/jovyan/.local/lib/python2.7/site-packages (from tensor2tensor~=1.9.0->-r src/requirements.dataflow.txt (line 9)) (1.2.1)\n",
      "Requirement already satisfied: docopt in /home/jovyan/.local/lib/python2.7/site-packages (from hdfs<3.0.0,>=2.1.0->apache-beam[gcp]~=2.8.0->-r src/requirements.dataflow.txt (line 5)) (0.6.2)\n",
      "Requirement already satisfied: setuptools in /usr/lib/python2.7/dist-packages (from pyvcf<0.7.0,>=0.6.8->apache-beam[gcp]~=2.8.0->-r src/requirements.dataflow.txt (line 5)) (39.0.1)\n",
      "Requirement already satisfied: enum34>=1.0.4 in /usr/lib/python2.7/dist-packages (from grpcio<2,>=1.8->apache-beam[gcp]~=2.8.0->-r src/requirements.dataflow.txt (line 5)) (1.1.6)\n",
      "Requirement already satisfied: pyparsing>=2.1.4 in /home/jovyan/.local/lib/python2.7/site-packages (from pydot<1.3,>=1.2.0->apache-beam[gcp]~=2.8.0->-r src/requirements.dataflow.txt (line 5)) (2.3.1)\n",
      "Requirement already satisfied: funcsigs>=1; python_version < \"3.3\" in /home/jovyan/.local/lib/python2.7/site-packages (from mock<3.0.0,>=1.0.1->apache-beam[gcp]~=2.8.0->-r src/requirements.dataflow.txt (line 5)) (1.0.2)\n",
      "Requirement already satisfied: pbr>=0.11 in /home/jovyan/.local/lib/python2.7/site-packages (from mock<3.0.0,>=1.0.1->apache-beam[gcp]~=2.8.0->-r src/requirements.dataflow.txt (line 5)) (5.1.3)\n",
      "Requirement already satisfied: fasteners>=0.14 in /home/jovyan/.local/lib/python2.7/site-packages (from google-apitools<=0.5.20,>=0.5.18; extra == \"gcp\"->apache-beam[gcp]~=2.8.0->-r src/requirements.dataflow.txt (line 5)) (0.14.1)\n",
      "Requirement already satisfied: googleapis-common-protos<2.0dev,>=1.5.2 in /home/jovyan/.local/lib/python2.7/site-packages (from proto-google-cloud-pubsub-v1==0.15.4; extra == \"gcp\"->apache-beam[gcp]~=2.8.0->-r src/requirements.dataflow.txt (line 5)) (1.5.8)\n",
      "Requirement already satisfied: google-cloud-core<0.26dev,>=0.25.0 in /home/jovyan/.local/lib/python2.7/site-packages (from google-cloud-bigquery==0.25.0; extra == \"gcp\"->apache-beam[gcp]~=2.8.0->-r src/requirements.dataflow.txt (line 5)) (0.25.0)\n",
      "Requirement already satisfied: gapic-google-cloud-pubsub-v1<0.16dev,>=0.15.0 in /home/jovyan/.local/lib/python2.7/site-packages (from google-cloud-pubsub==0.26.0; extra == \"gcp\"->apache-beam[gcp]~=2.8.0->-r src/requirements.dataflow.txt (line 5)) (0.15.4)\n",
      "Requirement already satisfied: idna<2.8,>=2.5 in /usr/lib/python2.7/dist-packages (from requests<3.0.0,>=2.13.0->spacy~=2.0.0->-r src/requirements.dataflow.txt (line 8)) (2.6)\n",
      "Requirement already satisfied: certifi>=2017.4.17 in /home/jovyan/.local/lib/python2.7/site-packages (from requests<3.0.0,>=2.13.0->spacy~=2.0.0->-r src/requirements.dataflow.txt (line 8)) (2019.3.9)\n",
      "Requirement already satisfied: chardet<3.1.0,>=3.0.2 in /home/jovyan/.local/lib/python2.7/site-packages (from requests<3.0.0,>=2.13.0->spacy~=2.0.0->-r src/requirements.dataflow.txt (line 8)) (3.0.4)\n",
      "Requirement already satisfied: urllib3<1.24,>=1.21.1 in /home/jovyan/.local/lib/python2.7/site-packages (from requests<3.0.0,>=2.13.0->spacy~=2.0.0->-r src/requirements.dataflow.txt (line 8)) (1.23)\n",
      "Requirement already satisfied: msgpack-numpy<0.4.4 in /home/jovyan/.local/lib/python2.7/site-packages (from thinc<6.13.0,>=6.12.1->spacy~=2.0.0->-r src/requirements.dataflow.txt (line 8)) (0.4.3.2)\n",
      "Requirement already satisfied: msgpack<0.6.0,>=0.5.6 in /home/jovyan/.local/lib/python2.7/site-packages (from thinc<6.13.0,>=6.12.1->spacy~=2.0.0->-r src/requirements.dataflow.txt (line 8)) (0.5.6)\n",
      "Requirement already satisfied: wrapt<1.11.0,>=1.10.0 in /home/jovyan/.local/lib/python2.7/site-packages (from thinc<6.13.0,>=6.12.1->spacy~=2.0.0->-r src/requirements.dataflow.txt (line 8)) (1.10.11)\n",
      "Requirement already satisfied: cytoolz<0.10,>=0.9.0 in /home/jovyan/.local/lib/python2.7/site-packages (from thinc<6.13.0,>=6.12.1->spacy~=2.0.0->-r src/requirements.dataflow.txt (line 8)) (0.9.0.1)\n",
      "Requirement already satisfied: Werkzeug>=0.14 in /home/jovyan/.local/lib/python2.7/site-packages (from flask->tensor2tensor~=1.9.0->-r src/requirements.dataflow.txt (line 9)) (0.14.1)\n",
      "Requirement already satisfied: click>=5.1 in /home/jovyan/.local/lib/python2.7/site-packages (from flask->tensor2tensor~=1.9.0->-r src/requirements.dataflow.txt (line 9)) (7.0)\n",
      "Requirement already satisfied: Jinja2>=2.10 in /home/jovyan/.local/lib/python2.7/site-packages (from flask->tensor2tensor~=1.9.0->-r src/requirements.dataflow.txt (line 9)) (2.10)\n",
      "Requirement already satisfied: itsdangerous>=0.24 in /home/jovyan/.local/lib/python2.7/site-packages (from flask->tensor2tensor~=1.9.0->-r src/requirements.dataflow.txt (line 9)) (1.1.0)\n",
      "Requirement already satisfied: google-auth-httplib2>=0.0.3 in /home/jovyan/.local/lib/python2.7/site-packages (from google-api-python-client->tensor2tensor~=1.9.0->-r src/requirements.dataflow.txt (line 9)) (0.0.3)\n",
      "Requirement already satisfied: uritemplate<4dev,>=3.0.0 in /home/jovyan/.local/lib/python2.7/site-packages (from google-api-python-client->tensor2tensor~=1.9.0->-r src/requirements.dataflow.txt (line 9)) (3.0.0)\n",
      "Requirement already satisfied: google-auth>=1.4.1 in /home/jovyan/.local/lib/python2.7/site-packages (from google-api-python-client->tensor2tensor~=1.9.0->-r src/requirements.dataflow.txt (line 9)) (1.6.3)\n",
      "Requirement already satisfied: greenlet>=0.4.14; platform_python_implementation == \"CPython\" in /home/jovyan/.local/lib/python2.7/site-packages (from gevent->tensor2tensor~=1.9.0->-r src/requirements.dataflow.txt (line 9)) (0.4.15)\n",
      "Requirement already satisfied: mpmath>=0.19 in /home/jovyan/.local/lib/python2.7/site-packages (from sympy->tensor2tensor~=1.9.0->-r src/requirements.dataflow.txt (line 9)) (1.1.0)\n",
      "Requirement already satisfied: pyglet>=1.2.0 in /home/jovyan/.local/lib/python2.7/site-packages (from gym->tensor2tensor~=1.9.0->-r src/requirements.dataflow.txt (line 9)) (1.3.2)\n",
      "Requirement already satisfied: monotonic>=0.1 in /home/jovyan/.local/lib/python2.7/site-packages (from fasteners>=0.14->google-apitools<=0.5.20,>=0.5.18; extra == \"gcp\"->apache-beam[gcp]~=2.8.0->-r src/requirements.dataflow.txt (line 5)) (1.5)\n",
      "Requirement already satisfied: grpc-google-iam-v1<0.12dev,>=0.11.1 in /home/jovyan/.local/lib/python2.7/site-packages (from gapic-google-cloud-pubsub-v1<0.16dev,>=0.15.0->google-cloud-pubsub==0.26.0; extra == \"gcp\"->apache-beam[gcp]~=2.8.0->-r src/requirements.dataflow.txt (line 5)) (0.11.4)\n"
     ]
    },
    {
     "name": "stdout",
     "output_type": "stream",
     "text": [
      "Requirement already satisfied: google-gax<0.16dev,>=0.15.7 in /home/jovyan/.local/lib/python2.7/site-packages (from gapic-google-cloud-pubsub-v1<0.16dev,>=0.15.0->google-cloud-pubsub==0.26.0; extra == \"gcp\"->apache-beam[gcp]~=2.8.0->-r src/requirements.dataflow.txt (line 5)) (0.15.16)\r\n",
      "Requirement already satisfied: toolz>=0.8.0 in /home/jovyan/.local/lib/python2.7/site-packages (from cytoolz<0.10,>=0.9.0->thinc<6.13.0,>=6.12.1->spacy~=2.0.0->-r src/requirements.dataflow.txt (line 8)) (0.9.0)\r\n",
      "Requirement already satisfied: MarkupSafe>=0.23 in /home/jovyan/.local/lib/python2.7/site-packages (from Jinja2>=2.10->flask->tensor2tensor~=1.9.0->-r src/requirements.dataflow.txt (line 9)) (1.1.1)\r\n",
      "Requirement already satisfied: cachetools>=2.0.0 in /home/jovyan/.local/lib/python2.7/site-packages (from google-auth>=1.4.1->google-api-python-client->tensor2tensor~=1.9.0->-r src/requirements.dataflow.txt (line 9)) (3.1.0)\r\n",
      "Requirement already satisfied: ply==3.8 in /home/jovyan/.local/lib/python2.7/site-packages (from google-gax<0.16dev,>=0.15.7->gapic-google-cloud-pubsub-v1<0.16dev,>=0.15.0->google-cloud-pubsub==0.26.0; extra == \"gcp\"->apache-beam[gcp]~=2.8.0->-r src/requirements.dataflow.txt (line 5)) (3.8)\r\n"
     ]
    }
   ],
   "source": [
    "# Code Search dependencies\n",
    "! python2 -m pip install --user https://github.com/kubeflow/batch-predict/tarball/master\n",
    "! python2 -m pip install --user -r src/requirements.ui.txt\n",
    "! python2 -m pip install --user -r src/requirements.nmslib.txt\n",
    "! python2 -m pip install --user -r src/requirements.dataflow.txt"
   ]
  },
  {
   "cell_type": "code",
   "execution_count": null,
   "metadata": {},
   "outputs": [],
   "source": [
    "# BigQuery Cell Dependencies\n",
    "! python2 -m pip install --user pandas-gbq"
   ]
  },
  {
   "cell_type": "code",
   "execution_count": 1,
   "metadata": {},
   "outputs": [],
   "source": [
    "# NOTE: The RuntimeWarnings (if any) are harmless. See ContinuumIO/anaconda-issues#6678.\n",
    "from pandas.io import gbq"
   ]
  },
  {
   "cell_type": "markdown",
   "metadata": {},
   "source": [
    "## Setup the Evironment\n",
    "\n",
    "This involves setting up the Ksonnet application, utility environment variables for various CLI steps, GCS bucket, and BigQuery dataset.\n",
    "\n",
    "###  Setup Authorization\n",
    "\n",
    "In a Kubeflow cluster on GKE, we already have the Google Application Credentials mounted onto each Pod. We can simply point `gcloud` to activate that service account."
   ]
  },
  {
   "cell_type": "code",
   "execution_count": 2,
   "metadata": {},
   "outputs": [
    {
     "name": "stderr",
     "output_type": "stream",
     "text": [
      "Activated service account credentials for: [scs-test-3-user@smart-code-search.iam.gserviceaccount.com]\n"
     ]
    }
   ],
   "source": [
    "%%bash\n",
    "\n",
    "# Activate Service Account provided by Kubeflow.\n",
    "gcloud auth activate-service-account --key-file=${GOOGLE_APPLICATION_CREDENTIALS}"
   ]
  },
  {
   "cell_type": "markdown",
   "metadata": {},
   "source": [
    "Additionally, to interact with the underlying cluster, we configure `kubectl`."
   ]
  },
  {
   "cell_type": "code",
   "execution_count": 3,
   "metadata": {},
   "outputs": [
    {
     "name": "stdout",
     "output_type": "stream",
     "text": [
      "Cluster \"kubeflow\" set.\n",
      "User \"jupyter\" set.\n",
      "Context \"kubeflow\" modified.\n",
      "Switched to context \"kubeflow\".\n"
     ]
    }
   ],
   "source": [
    "%%bash\n",
    "\n",
    "kubectl config set-cluster kubeflow --server=https://kubernetes.default --certificate-authority=/var/run/secrets/kubernetes.io/serviceaccount/ca.crt\n",
    "kubectl config set-credentials jupyter --token \"$(cat /var/run/secrets/kubernetes.io/serviceaccount/token)\"\n",
    "kubectl config set-context kubeflow --cluster kubeflow --user jupyter\n",
    "kubectl config use-context kubeflow"
   ]
  },
  {
   "cell_type": "markdown",
   "metadata": {},
   "source": [
    "Collectively, these allow us to interact with Google Cloud Services as well as the Kubernetes Cluster directly to submit `TFJob`s and execute `Dataflow` pipelines."
   ]
  },
  {
   "cell_type": "markdown",
   "metadata": {},
   "source": [
    "### Create PROJECT variable\n",
    "\n",
    "Set PROJECT to the GCP project you want to use.\n",
    "* If gcloud has a project set, this will be used by default.\n",
    "* To use a different project or if gcloud doesn't have a project set, you will need to configure one explicitly."
   ]
  },
  {
   "cell_type": "code",
   "execution_count": 5,
   "metadata": {},
   "outputs": [
    {
     "name": "stdout",
     "output_type": "stream",
     "text": [
      "env: PROJECT=smart-code-search\n"
     ]
    }
   ],
   "source": [
    "import subprocess\n",
    "\n",
    "PROJECT = subprocess.check_output([\"gcloud\", \"config\", \"get-value\", \"project\"]).strip()\n",
    "\n",
    "# DO NOT MODIFY. These are environment variables to be used in a bash shell.\n",
    "%env PROJECT $PROJECT"
   ]
  },
  {
   "cell_type": "markdown",
   "metadata": {},
   "source": [
    "### Create a storage bucket\n",
    "\n",
    "Create a GCS bucket to store data."
   ]
  },
  {
   "cell_type": "code",
   "execution_count": 6,
   "metadata": {},
   "outputs": [
    {
     "name": "stderr",
     "output_type": "stream",
     "text": [
      "Creating gs://code-search/...\n",
      "ServiceException: 409 Bucket code-search already exists.\n"
     ]
    }
   ],
   "source": [
    "%%bash\n",
    "\n",
    "gsutil mb -p $PROJECT gs://code-search"
   ]
  },
  {
   "cell_type": "markdown",
   "metadata": {},
   "source": [
    "## Define an experiment\n",
    "\n",
    "* This solution consists of multiple jobs and servers that need to share parameters.\n",
    "* To facilitate this we use [params.json](https://github.com/kubeflow/examples/blob/master/code_search/kubeflow/components/params.jason) to define sets of parameters.\n",
    "* You configure an experiment to run by defining a set of experiments in the **current** field. \n",
    "* You can save an old experiment's parameters in a different field (not **current**); it does not matter which field's name to use because we are not running the old experiment.\n",
    "\n",
    "To get started define your experiment\n",
    "\n",
    "* Create or modify the **cureent** entry containing a set of values to be used for your experiment.\n",
    "* Set the following values\n",
    "\n",
    "    * **project**: Set this to the GCP project you are working on.\n",
    "    * **experiment**: Experiment's name.\n",
    "    * **bq_target_dataset**: BigQuery dataset to store data.\n",
    "    * **data_dir**: The data directory in GCS to be used by T2T.\n",
    "    * **working_dir**: The working directory in GCS to store temporary data, stages, and output models.\n",
    "    * **model_dir**: \n",
    "        * After training your model, set this to a GCS directory containing the export model\n",
    "        * e.g gs://code-search/20190402/working/output/export/1533685294\n",
    "    * **embedding_dir**: The embedding directory in GCS to store functions' embeddings.\n",
    "    * **t2t_problem**: Set this to \"kf_github_function_docstring\".\n",
    "    * **t2t_model**: Set this  \"kf_similarity_transformer\".\n",
    "    * **train_steps**: Numer oftraining steps.\n",
    "    * **eval_steps**: Number of steps to be used for eval.\n",
    "    * **hparams_set**: The set of hyperparameters to use; see some suggestions [here](https://github.com/tensorflow/tensor2tensor#language-modeling).\n",
    "    * **lookup_file**: Set this to the GCS location of the CSV produced by the job to create the nmslib index of the embeddings for all GitHub data.\n",
    "    * **index_file**: Set this to the GCS location of the nmslib index for all the data in GitHub."
   ]
  },
  {
   "cell_type": "markdown",
   "metadata": {},
   "source": [
    "### Set up environment variables\n",
    "\n",
    "Set up environments variables according to params.json."
   ]
  },
  {
   "cell_type": "code",
   "execution_count": 32,
   "metadata": {},
   "outputs": [
    {
     "name": "stdout",
     "output_type": "stream",
     "text": [
      "env: WORKING_DIR=gs://code-search/20190402/working\n",
      "env: TARGET_DATASET=code_search\n"
     ]
    }
   ],
   "source": [
    "import json\n",
    "import os\n",
    "\n",
    "params_file = 'kubeflow/components/params.json'\n",
    "\n",
    "with open(params_file) as json_file:\n",
    "    data = json.load(json_file)\n",
    "    params = data['current']\n",
    "    WORKING_DIR = params['working_dir']\n",
    "    TARGET_DATASET = params['bq_target_dataset']\n",
    "    \n",
    "# DO NOT MODIFY. This are environment variables to be used in a bash shell.\n",
    "%env WORKING_DIR $WORKING_DIR\n",
    "%env TARGET_DATASET $TARGET_DATASET"
   ]
  },
  {
   "cell_type": "markdown",
   "metadata": {},
   "source": [
    "### Create the BigQuery dataset"
   ]
  },
  {
   "cell_type": "code",
   "execution_count": 34,
   "metadata": {},
   "outputs": [
    {
     "name": "stdout",
     "output_type": "stream",
     "text": [
      "BigQuery error in mk operation: Dataset 'smart-code-search:code_search' already\n",
      "exists.\n"
     ]
    }
   ],
   "source": [
    "%%bash\n",
    "bq mk ${PROJECT}:${TARGET_DATASET}"
   ]
  },
  {
   "cell_type": "markdown",
   "metadata": {},
   "source": [
    "## View Github Files\n",
    "\n",
    "This is the query that is run as the first step of the Pre-Processing pipeline and is sent through a set of transformations. This is illustrative of the rows being processed in the pipeline we trigger next.\n",
    "\n",
    "**WARNING**: The table is large and the query can take a few minutes to complete."
   ]
  },
  {
   "cell_type": "code",
   "execution_count": 35,
   "metadata": {},
   "outputs": [
    {
     "data": {
      "text/html": [
       "<div>\n",
       "<style scoped>\n",
       "    .dataframe tbody tr th:only-of-type {\n",
       "        vertical-align: middle;\n",
       "    }\n",
       "\n",
       "    .dataframe tbody tr th {\n",
       "        vertical-align: top;\n",
       "    }\n",
       "\n",
       "    .dataframe thead th {\n",
       "        text-align: right;\n",
       "    }\n",
       "</style>\n",
       "<table border=\"1\" class=\"dataframe\">\n",
       "  <thead>\n",
       "    <tr style=\"text-align: right;\">\n",
       "      <th></th>\n",
       "      <th>repo_path</th>\n",
       "      <th>content</th>\n",
       "    </tr>\n",
       "  </thead>\n",
       "  <tbody>\n",
       "    <tr>\n",
       "      <th>0</th>\n",
       "      <td>cchurch/ansible lib/ansible/modules/network/bi...</td>\n",
       "      <td>#!/usr/bin/python\\n# -*- coding: utf-8 -*-\\n\\n...</td>\n",
       "    </tr>\n",
       "    <tr>\n",
       "      <th>1</th>\n",
       "      <td>xtiankisutsa/MARA_Framework tools/androguard/a...</td>\n",
       "      <td>#!/usr/bin/env python\\n\\n# This file is part o...</td>\n",
       "    </tr>\n",
       "    <tr>\n",
       "      <th>2</th>\n",
       "      <td>i3visio/osrframework osrframework/patterns/lit...</td>\n",
       "      <td># -*- coding: cp1252 -*-\\n#\\n#################...</td>\n",
       "    </tr>\n",
       "    <tr>\n",
       "      <th>3</th>\n",
       "      <td>leandrotoledo/gae-devops-reaction-telegram-bot...</td>\n",
       "      <td>import json\\nimport webapp2\\nimport telegram\\n...</td>\n",
       "    </tr>\n",
       "    <tr>\n",
       "      <th>4</th>\n",
       "      <td>usc-isi-i2/etk etk/cli/html_metadate_extractor.py</td>\n",
       "      <td>import warnings\\nimport sys\\nimport argparse\\n...</td>\n",
       "    </tr>\n",
       "    <tr>\n",
       "      <th>5</th>\n",
       "      <td>Juniper/contrail-controller src/config/api-ser...</td>\n",
       "      <td>#\\n# Copyright (c) 2018 Juniper Networks, Inc....</td>\n",
       "    </tr>\n",
       "    <tr>\n",
       "      <th>6</th>\n",
       "      <td>zubie7a/Algorithms CodeSignal/Arcade/The_Core/...</td>\n",
       "      <td># https://app.codesignal.com/arcade/code-arcad...</td>\n",
       "    </tr>\n",
       "    <tr>\n",
       "      <th>7</th>\n",
       "      <td>hyperion-rt/hyperion hyperion/conf/tests/test_...</td>\n",
       "      <td># Test that parameters are preserved when writ...</td>\n",
       "    </tr>\n",
       "    <tr>\n",
       "      <th>8</th>\n",
       "      <td>openstack/cinder cinder/interface/fczm_driver.py</td>\n",
       "      <td># Copyright 2016 Dell Inc.\\n# All Rights Reser...</td>\n",
       "    </tr>\n",
       "    <tr>\n",
       "      <th>9</th>\n",
       "      <td>blevine37/pySpawn17 pyspawn/import_methods.py</td>\n",
       "      <td>from pyspawn.traj import traj\\nfrom pyspawn.he...</td>\n",
       "    </tr>\n",
       "  </tbody>\n",
       "</table>\n",
       "</div>"
      ],
      "text/plain": [
       "                                           repo_path  \\\n",
       "0  cchurch/ansible lib/ansible/modules/network/bi...   \n",
       "1  xtiankisutsa/MARA_Framework tools/androguard/a...   \n",
       "2  i3visio/osrframework osrframework/patterns/lit...   \n",
       "3  leandrotoledo/gae-devops-reaction-telegram-bot...   \n",
       "4  usc-isi-i2/etk etk/cli/html_metadate_extractor.py   \n",
       "5  Juniper/contrail-controller src/config/api-ser...   \n",
       "6  zubie7a/Algorithms CodeSignal/Arcade/The_Core/...   \n",
       "7  hyperion-rt/hyperion hyperion/conf/tests/test_...   \n",
       "8   openstack/cinder cinder/interface/fczm_driver.py   \n",
       "9      blevine37/pySpawn17 pyspawn/import_methods.py   \n",
       "\n",
       "                                             content  \n",
       "0  #!/usr/bin/python\\n# -*- coding: utf-8 -*-\\n\\n...  \n",
       "1  #!/usr/bin/env python\\n\\n# This file is part o...  \n",
       "2  # -*- coding: cp1252 -*-\\n#\\n#################...  \n",
       "3  import json\\nimport webapp2\\nimport telegram\\n...  \n",
       "4  import warnings\\nimport sys\\nimport argparse\\n...  \n",
       "5  #\\n# Copyright (c) 2018 Juniper Networks, Inc....  \n",
       "6  # https://app.codesignal.com/arcade/code-arcad...  \n",
       "7  # Test that parameters are preserved when writ...  \n",
       "8  # Copyright 2016 Dell Inc.\\n# All Rights Reser...  \n",
       "9  from pyspawn.traj import traj\\nfrom pyspawn.he...  "
      ]
     },
     "execution_count": 35,
     "metadata": {},
     "output_type": "execute_result"
    }
   ],
   "source": [
    "query = \"\"\"\n",
    "  SELECT\n",
    "    MAX(CONCAT(f.repo_name, ' ', f.path)) AS repo_path,\n",
    "    c.content\n",
    "  FROM\n",
    "    `bigquery-public-data.github_repos.files` AS f\n",
    "  JOIN\n",
    "    `bigquery-public-data.github_repos.contents` AS c\n",
    "  ON\n",
    "    f.id = c.id\n",
    "  JOIN (\n",
    "      --this part of the query makes sure repo is watched at least twice since 2017\n",
    "    SELECT\n",
    "      repo\n",
    "    FROM (\n",
    "      SELECT\n",
    "        repo.name AS repo\n",
    "      FROM\n",
    "        `githubarchive.year.2017`\n",
    "      WHERE\n",
    "        type=\"WatchEvent\"\n",
    "      UNION ALL\n",
    "      SELECT\n",
    "        repo.name AS repo\n",
    "      FROM\n",
    "        `githubarchive.month.2018*`\n",
    "      WHERE\n",
    "        type=\"WatchEvent\" )\n",
    "    GROUP BY\n",
    "      1\n",
    "    HAVING\n",
    "      COUNT(*) >= 2 ) AS r\n",
    "  ON\n",
    "    f.repo_name = r.repo\n",
    "  WHERE\n",
    "    f.path LIKE '%.py' AND --with python extension\n",
    "    c.size < 15000 AND --get rid of ridiculously long files\n",
    "    REGEXP_CONTAINS(c.content, r'def ') --contains function definition\n",
    "  GROUP BY\n",
    "    c.content\n",
    "  LIMIT\n",
    "    10\n",
    "\"\"\"\n",
    "\n",
    "gbq.read_gbq(query, dialect='standard', project_id=PROJECT)"
   ]
  },
  {
   "cell_type": "markdown",
   "metadata": {},
   "source": [
    "## Pre-Processing Github Files\n",
    "\n",
    "In this step, we use [Google Cloud Dataflow](https://cloud.google.com/dataflow/) to preprocess the data.\n",
    "\n",
    "* We use a K8s Job to run a python program `code_search.dataflow.cli.preprocess_github_dataset` that submits the Dataflow job\n",
    "* Once the job has been created it can be monitored using the Dataflow console"
   ]
  },
  {
   "cell_type": "markdown",
   "metadata": {},
   "source": [
    "### Submit the Dataflow Job\n",
    "\n",
    "Configure the job description. This script will produce jobs/submit-preprocess-job.yaml file."
   ]
  },
  {
   "cell_type": "code",
   "execution_count": 41,
   "metadata": {},
   "outputs": [
    {
     "name": "stdout",
     "output_type": "stream",
     "text": [
      "---\n",
      "apiVersion: batch/v1\n",
      "kind: Job\n",
      "metadata:\n",
      "  labels:\n",
      "    app: submit-preprocess-job\n",
      "  name: submit-preprocess-job-demo20190402\n",
      "  namespace: kubeflow\n",
      "spec:\n",
      "  template:\n",
      "    metadata:\n",
      "      labels:\n",
      "        app: submit-preprocess-job\n",
      "    spec:\n",
      "      containers:\n",
      "      - command:\n",
      "        - python2\n",
      "        - -m\n",
      "        - code_search.dataflow.cli.preprocess_github_dataset\n",
      "        - --runner=DataflowRunner\n",
      "        - --project=smart-code-search\n",
      "        - --target_dataset=code_search\n",
      "        - --data_dir=gs://code-search/20190402/data\n",
      "        - --job_name=github-preprocess-demo20190402\n",
      "        - --temp_location=gs://code-search/20190402/working/dataflow/temp\n",
      "        - --staging_location=gs://code-search/20190402/working/dataflow/staging\n",
      "        - --worker_machine_type=n1-highcpu-32\n",
      "        - --num_workers=5\n",
      "        - --requirements_file=requirements.dataflow.txt\n",
      "        - --token_pairs_table=smart-code-search:code_search.token_pairs\n",
      "        - --failed_tokenize_table=smart-code-search:code_search.failed_tokenize\n",
      "        env:\n",
      "        - name: GOOGLE_APPLICATION_CREDENTIALS\n",
      "          value: /secret/gcp-credentials/user-gcp-sa.json\n",
      "        image: gcr.io/kubeflow-examples/code-search-dataflow:v20181204-ee47a49-dirty-f4045c\n",
      "        name: dataflow\n",
      "        volumeMounts:\n",
      "        - mountPath: /secret/gcp-credentials\n",
      "          name: gcp-credentials\n",
      "        workingDir: /src\n",
      "      restartPolicy: Never\n",
      "      volumes:\n",
      "      - name: gcp-credentials\n",
      "        secret:\n",
      "          secretName: user-gcp-sa\n",
      "          \n"
     ]
    }
   ],
   "source": [
    "%%bash\n",
    "\n",
    "python configure_job.py kubeflow/components/submit-preprocess-job.yaml"
   ]
  },
  {
   "cell_type": "markdown",
   "metadata": {},
   "source": [
    "Create and run the job."
   ]
  },
  {
   "cell_type": "code",
   "execution_count": 44,
   "metadata": {},
   "outputs": [
    {
     "name": "stdout",
     "output_type": "stream",
     "text": [
      "job.batch/submit-preprocess-job-demo20190402 created\n"
     ]
    }
   ],
   "source": [
    "%%bash\n",
    "\n",
    "kubectl -n kubeflow apply -f jobs/submit-preprocess-job.yaml"
   ]
  },
  {
   "cell_type": "code",
   "execution_count": 11,
   "metadata": {},
   "outputs": [
    {
     "name": "stdout",
     "output_type": "stream",
     "text": [
      "---\n",
      "apiVersion: batch/v1\n",
      "kind: Job\n",
      "metadata:\n",
      "  labels:\n",
      "    app: submit-preprocess-job\n",
      "    ksonnet.io/component: submit-preprocess-job\n",
      "  name: submit-preprocess-job\n",
      "  namespace: kubeflow\n",
      "spec:\n",
      "  replicas: 1\n",
      "  template:\n",
      "    metadata:\n",
      "      labels:\n",
      "        app: submit-preprocess-job\n",
      "    spec:\n",
      "      containers:\n",
      "      - command:\n",
      "        - python2\n",
      "        - -m\n",
      "        - code_search.dataflow.cli.preprocess_github_dataset\n",
      "        - --runner=DataflowRunner\n",
      "        - --project=smart-code-search\n",
      "        - --target_dataset=code_search\n",
      "        - --data_dir=gs://code-search/20190328/data\n",
      "        - --job_name=github-preprocess-1104-1831\n",
      "        - --temp_location=gs://code-search/20190328/working/dataflow/temp\n",
      "        - --staging_location=gs://code-search/20190328/working/dataflow/staging\n",
      "        - --worker_machine_type=n1-highcpu-32\n",
      "        - --num_workers=5\n",
      "        - --requirements_file=requirements.dataflow.txt\n",
      "        env:\n",
      "        - name: GOOGLE_APPLICATION_CREDENTIALS\n",
      "          value: /secret/gcp-credentials/user-gcp-sa.json\n",
      "        image: gcr.io/kubeflow-examples/code-search-dataflow:v20181204-ee47a49-dirty-f4045c\n",
      "        name: dataflow\n",
      "        volumeMounts:\n",
      "        - mountPath: /secret/gcp-credentials\n",
      "          name: gcp-credentials\n",
      "        workingDir: /src\n",
      "      restartPolicy: Never\n",
      "      volumes:\n",
      "      - name: gcp-credentials\n",
      "        secret:\n",
      "          secretName: user-gcp-sa\n"
     ]
    },
    {
     "name": "stderr",
     "output_type": "stream",
     "text": [
      "level=info msg=\"setting environment component\" component-name=submit-preprocess-job\n"
     ]
    }
   ],
   "source": [
    "%%bash\n",
    "\n",
    "cd kubeflow\n",
    "ks param set --env=code-search submit-preprocess-job targetDataset ${TARGET_DATASET}\n",
    "ks show code-search -c submit-preprocess-job"
   ]
  },
  {
   "cell_type": "code",
   "execution_count": 12,
   "metadata": {},
   "outputs": [
    {
     "name": "stderr",
     "output_type": "stream",
     "text": [
      "time=\"2019-03-29T04:51:47Z\" level=error msg=\"unable create ksonnet command\" error=\"unable to find ksonnet project\"\n"
     ]
    }
   ],
   "source": [
    "%%bash\n",
    "\n",
    "ks apply code-search -c submit-preprocess-job"
   ]
  },
  {
   "cell_type": "markdown",
   "metadata": {},
   "source": [
    "When completed successfully, this should create a dataset in `BigQuery` named `target_dataset`. Additionally, it also dumps CSV files into `data_dir` which contain training samples (pairs of function and docstrings) for our Tensorflow Model. A representative set of results can be viewed using the following query."
   ]
  },
  {
   "cell_type": "code",
   "execution_count": null,
   "metadata": {
    "scrolled": false
   },
   "outputs": [],
   "source": [
    "query = \"\"\"\n",
    "  SELECT * \n",
    "  FROM \n",
    "    {}.token_pairs\n",
    "  LIMIT\n",
    "    10\n",
    "\"\"\".format(TARGET_DATASET)\n",
    "\n",
    "gbq.read_gbq(query, dialect='standard', project_id=PROJECT)"
   ]
  },
  {
   "cell_type": "markdown",
   "metadata": {},
   "source": [
    "This pipeline also writes a set of CSV files which contain function and docstring pairs delimited by a comma. Here, we list a subset of them."
   ]
  },
  {
   "cell_type": "code",
   "execution_count": null,
   "metadata": {},
   "outputs": [],
   "source": [
    "%%bash\n",
    "\n",
    "LIMIT=10\n",
    "\n",
    "gsutil ls ${WORKING_DIR}/data/*.csv | head -n ${LIMIT}"
   ]
  },
  {
   "cell_type": "markdown",
   "metadata": {},
   "source": [
    "## Prepare Dataset for Training\n",
    "\n",
    "We will use `t2t-datagen` to convert the transformed data above into the `TFRecord` format.\n",
    "\n",
    "**TIP**: Use `ks show` to view the Resource Spec submitted."
   ]
  },
  {
   "cell_type": "code",
   "execution_count": null,
   "metadata": {},
   "outputs": [],
   "source": [
    "%%bash\n",
    "\n",
    "cd kubeflow\n",
    "\n",
    "ks show code-search -c t2t-code-search-datagen"
   ]
  },
  {
   "cell_type": "code",
   "execution_count": null,
   "metadata": {},
   "outputs": [],
   "source": [
    "%%bash\n",
    "\n",
    "cd kubeflow\n",
    "\n",
    "ks apply code-search -c t2t-code-search-datagen"
   ]
  },
  {
   "cell_type": "markdown",
   "metadata": {},
   "source": [
    "Once this job finishes, the data directory should have a vocabulary file and a list of `TFRecords` prefixed by the problem name which in our case is `github_function_docstring_extended`. Here, we list a subset of them."
   ]
  },
  {
   "cell_type": "code",
   "execution_count": null,
   "metadata": {},
   "outputs": [],
   "source": [
    "%%bash\n",
    "\n",
    "LIMIT=10\n",
    "\n",
    "gsutil ls ${WORKING_DIR}/data/vocab*\n",
    "gsutil ls ${WORKING_DIR}/data/*train* | head -n ${LIMIT}"
   ]
  },
  {
   "cell_type": "markdown",
   "metadata": {},
   "source": [
    "## Execute Tensorflow Training\n",
    "\n",
    "Once, the `TFRecords` are generated, we will use `t2t-trainer` to execute the training."
   ]
  },
  {
   "cell_type": "code",
   "execution_count": null,
   "metadata": {},
   "outputs": [],
   "source": [
    "%%bash\n",
    "\n",
    "cd kubeflow\n",
    "\n",
    "ks show code-search -c t2t-code-search-trainer"
   ]
  },
  {
   "cell_type": "code",
   "execution_count": null,
   "metadata": {},
   "outputs": [],
   "source": [
    "%%bash\n",
    "\n",
    "cd kubeflow\n",
    "\n",
    "ks apply code-search -c t2t-code-search-trainer"
   ]
  },
  {
   "cell_type": "markdown",
   "metadata": {},
   "source": [
    "This will generate TensorFlow model checkpoints which is illustrated below."
   ]
  },
  {
   "cell_type": "code",
   "execution_count": null,
   "metadata": {},
   "outputs": [],
   "source": [
    "%%bash\n",
    "\n",
    "gsutil ls ${WORKING_DIR}/output/*ckpt*"
   ]
  },
  {
   "cell_type": "markdown",
   "metadata": {},
   "source": [
    "## Export Tensorflow Model\n",
    "\n",
    "We now use `t2t-exporter` to export the `TFModel`."
   ]
  },
  {
   "cell_type": "code",
   "execution_count": null,
   "metadata": {},
   "outputs": [],
   "source": [
    "%%bash\n",
    "\n",
    "cd kubeflow\n",
    "\n",
    "ks show code-search -c t2t-code-search-exporter"
   ]
  },
  {
   "cell_type": "code",
   "execution_count": null,
   "metadata": {},
   "outputs": [],
   "source": [
    "%%bash\n",
    "\n",
    "cd kubeflow\n",
    "\n",
    "ks apply code-search -c t2t-code-search-exporter"
   ]
  },
  {
   "cell_type": "markdown",
   "metadata": {},
   "source": [
    "Once completed, this will generate a TensorFlow `SavedModel` which we will further use for both online (via `TF Serving`) and offline inference (via `Kubeflow Batch Prediction`)."
   ]
  },
  {
   "cell_type": "code",
   "execution_count": null,
   "metadata": {},
   "outputs": [],
   "source": [
    "%%bash\n",
    "\n",
    "gsutil ls ${WORKING_DIR}/output/export/Servo"
   ]
  },
  {
   "cell_type": "markdown",
   "metadata": {},
   "source": [
    "## Compute Function Embeddings\n",
    "\n",
    "In this step, we will use the exported model above to compute function embeddings via another `Dataflow` pipeline. A `Python 2` module `code_search.dataflow.cli.create_function_embeddings` has been provided for this purpose. A list of all possible arguments can be seen below."
   ]
  },
  {
   "cell_type": "markdown",
   "metadata": {},
   "source": [
    "### Configuration\n",
    "\n",
    "First, select a Exported Model version from the `${WORKING_DIR}/output/export/Servo` as seen above. This should be name of a folder with UNIX Seconds Timestamp like `1533685294`. Below, we automatically do that by selecting the folder which represents the latest timestamp."
   ]
  },
  {
   "cell_type": "code",
   "execution_count": null,
   "metadata": {},
   "outputs": [],
   "source": [
    "%%bash --out EXPORT_DIR_LS\n",
    "\n",
    "gsutil ls ${WORKING_DIR}/output/export/Servo | grep -oE \"([0-9]+)/$\""
   ]
  },
  {
   "cell_type": "code",
   "execution_count": null,
   "metadata": {},
   "outputs": [],
   "source": [
    "# WARNING: This routine will fail if no export has been completed successfully.\n",
    "MODEL_VERSION = max([int(ts[:-1]) for ts in EXPORT_DIR_LS.split('\\n') if ts])\n",
    "\n",
    "# DO NOT MODIFY. These are environment variables to be used in a bash shell.\n",
    "%env MODEL_VERSION $MODEL_VERSION"
   ]
  },
  {
   "cell_type": "markdown",
   "metadata": {},
   "source": [
    "* Modify experiments.libsonnet and set **modelDir** to the directory computed above"
   ]
  },
  {
   "cell_type": "markdown",
   "metadata": {},
   "source": [
    "### Run the Dataflow Job for Function Embeddings"
   ]
  },
  {
   "cell_type": "code",
   "execution_count": null,
   "metadata": {},
   "outputs": [],
   "source": [
    "%%bash\n",
    "\n",
    "cd kubeflow\n",
    "ks apply code-search -c submit-code-embeddings-job        "
   ]
  },
  {
   "cell_type": "markdown",
   "metadata": {},
   "source": [
    "When completed successfully, this should create another table in the same `BigQuery` dataset which contains the function embeddings for each existing data sample available from the previous Dataflow Job. Additionally, it also dumps a CSV file containing metadata for each of the function and its embeddings. A representative query result is shown below."
   ]
  },
  {
   "cell_type": "code",
   "execution_count": null,
   "metadata": {},
   "outputs": [],
   "source": [
    "query = \"\"\"\n",
    "  SELECT * \n",
    "  FROM \n",
    "    {}.function_embeddings\n",
    "  LIMIT\n",
    "    10\n",
    "\"\"\".format(TARGET_DATASET)\n",
    "\n",
    "gbq.read_gbq(query, dialect='standard', project_id=PROJECT)"
   ]
  },
  {
   "cell_type": "markdown",
   "metadata": {},
   "source": [
    "The pipeline also generates a set of CSV files which will be useful to generate the search index."
   ]
  },
  {
   "cell_type": "code",
   "execution_count": null,
   "metadata": {},
   "outputs": [],
   "source": [
    "%%bash\n",
    "\n",
    "LIMIT=10\n",
    "\n",
    "gsutil ls ${WORKING_DIR}/data/*index*.csv | head -n ${LIMIT}"
   ]
  },
  {
   "cell_type": "markdown",
   "metadata": {},
   "source": [
    "## Create Search Index\n",
    "\n",
    "We now create the Search Index from the computed embeddings. This facilitates k-Nearest Neighbor search to for semantically similar results."
   ]
  },
  {
   "cell_type": "code",
   "execution_count": null,
   "metadata": {},
   "outputs": [],
   "source": [
    "%%bash\n",
    "\n",
    "cd kubeflow\n",
    "\n",
    "ks show code-search -c search-index-creator"
   ]
  },
  {
   "cell_type": "code",
   "execution_count": null,
   "metadata": {},
   "outputs": [],
   "source": [
    "%%bash\n",
    "\n",
    "cd kubeflow\n",
    "\n",
    "ks apply code-search -c search-index-creator"
   ]
  },
  {
   "cell_type": "markdown",
   "metadata": {},
   "source": [
    "Using the CSV files generated from the previous step, this creates an index using [NMSLib](https://github.com/nmslib/nmslib). A unified CSV file containing all the code examples for a human-readable reverse lookup during the query, is also created."
   ]
  },
  {
   "cell_type": "code",
   "execution_count": null,
   "metadata": {},
   "outputs": [],
   "source": [
    "%%bash\n",
    "\n",
    "gsutil ls ${WORKING_DIR}/code_search_index*"
   ]
  },
  {
   "cell_type": "markdown",
   "metadata": {},
   "source": [
    "# Deploy the Web App\n",
    "\n",
    "* The included web app provides a simple way for users to submit queries\n",
    "* The web app includes two pieces\n",
    "\n",
    "     * A Flask app that serves a simple UI for sending queries\n",
    "        \n",
    "        * The flask app also uses nmslib to provide fast lookups\n",
    "        \n",
    "     * A TF Serving instance to compute the embeddings for search queries\n",
    "* The ksonnet components for the web app are in a separate ksonnet application ks-web-app\n",
    "\n",
    "    * A second web app is used so that we can optionally use [ArgoCD](https://github.com/argoproj/argo-cd) to keep the serving components up to date."
   ]
  },
  {
   "cell_type": "markdown",
   "metadata": {},
   "source": [
    "## Deploy an Inference Server\n",
    "\n",
    "We've seen offline inference during the computation of embeddings. For online inference, we deploy the exported Tensorflow model above using [Tensorflow Serving](https://www.tensorflow.org/serving/).\n",
    "\n",
    "* You need to set the parameter **modelBasePath** to the GCS directory where the model was exported\n",
    "* This will be a directory produced by the export model step\n",
    "    * e.g gs://code-search-demo/models/20181107-dist-sync-gpu/export/\n",
    "* Here are sample contents\n",
    "  ```\n",
    "  gs://code-search-demo/models/20181107-dist-sync-gpu/export/:\n",
    "  gs://code-search-demo/models/20181107-dist-sync-gpu/export/\n",
    "\n",
    "  gs://code-search-demo/models/20181107-dist-sync-gpu/export/1541712907/:\n",
    "  gs://code-search-demo/models/20181107-dist-sync-gpu/export/1541712907/\n",
    "  gs://code-search-demo/models/20181107-dist-sync-gpu/export/1541712907/saved_model.pbtxt\n",
    "\n",
    "  gs://code-search-demo/models/20181107-dist-sync-gpu/export/1541712907/variables/:\n",
    "  gs://code-search-demo/models/20181107-dist-sync-gpu/export/1541712907/variables/\n",
    "  gs://code-search-demo/models/20181107-dist-sync-gpu/export/1541712907/variables/variables.data-00000-of-00001\n",
    "  gs://code-search-demo/models/20181107-dist-sync-gpu/export/1541712907/variables/variables.index\n",
    "\n",
    "  ```\n",
    "\n",
    "* TFServing expects the modelBasePath to consist of numeric subdirectories corresponding to different versions of the model.\n",
    "* Each subdirectory will contain the saved model in protocol buffer along with the weights. "
   ]
  },
  {
   "cell_type": "code",
   "execution_count": null,
   "metadata": {},
   "outputs": [],
   "source": [
    "%%bash\n",
    "\n",
    "cd ks-web-app\n",
    "\n",
    "ks param set --env=code-search modelBasePath ${MODEL_BASE_PATH}\n",
    "ks show code-search -c query-embed-server"
   ]
  },
  {
   "cell_type": "code",
   "execution_count": null,
   "metadata": {},
   "outputs": [],
   "source": [
    "%%bash\n",
    "\n",
    "cd ks-web-app\n",
    "\n",
    "ks apply code-search -c query-embed-server"
   ]
  },
  {
   "cell_type": "markdown",
   "metadata": {},
   "source": [
    "## Deploy Search UI\n",
    "\n",
    "We finally deploy the Search UI which allows the user to input arbitrary strings and see a list of results corresponding to semantically similar Python functions. This internally uses the inference server we just deployed.\n",
    "\n",
    "* We need to configure the index server to use the lookup file and CSV produced by the create search index step above\n",
    "* The values will be the values of the parameters **lookupFile** and **indexFile** that you set in experiments.libsonnet"
   ]
  },
  {
   "cell_type": "code",
   "execution_count": null,
   "metadata": {},
   "outputs": [],
   "source": [
    "%%bash\n",
    "\n",
    "cd ks-web-app\n",
    "ks param set --env=code-search search-index-server lookupFile ${LOOKUP_FILE}\n",
    "ks param set --env=code-search search-index-server indexFile ${INDEX_FILE}\n",
    "ks show code-search -c search-index-server"
   ]
  },
  {
   "cell_type": "code",
   "execution_count": null,
   "metadata": {},
   "outputs": [],
   "source": [
    "%%bash\n",
    "\n",
    "cd kubeflow\n",
    "\n",
    "ks apply code-search -c search-index-server"
   ]
  },
  {
   "cell_type": "markdown",
   "metadata": {},
   "source": [
    "The service should now be available at FQDN of the Kubeflow cluster at path `/code-search/`."
   ]
  }
 ],
 "metadata": {
  "kernelspec": {
   "display_name": "Python 2",
   "language": "python",
   "name": "python2"
  },
  "language_info": {
   "codemirror_mode": {
    "name": "ipython",
    "version": 2
   },
   "file_extension": ".py",
   "mimetype": "text/x-python",
   "name": "python",
   "nbconvert_exporter": "python",
   "pygments_lexer": "ipython2",
   "version": "2.7.15"
  }
 },
 "nbformat": 4,
 "nbformat_minor": 2
}
